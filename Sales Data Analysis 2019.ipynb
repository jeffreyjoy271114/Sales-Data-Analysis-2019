{
 "cells": [
  {
   "cell_type": "markdown",
   "id": "1275669b",
   "metadata": {},
   "source": [
    "### Importing the required Libraries for data Analaysis ."
   ]
  },
  {
   "cell_type": "markdown",
   "id": "1c6d18ee",
   "metadata": {},
   "source": [
    "### Reading the 12 month csv files and then converting it into a single csv file."
   ]
  },
  {
   "cell_type": "code",
   "execution_count": 51,
   "id": "579cdaca",
   "metadata": {},
   "outputs": [],
   "source": [
    "# Importing the libraries for data manipulation and data wrangling\n",
    "import pandas as pd\n",
    "import numpy as np\n",
    "import os\n",
    "from itertools import combinations\n",
    "from collections import Counter\n",
    "\n",
    "# Importing the libraries for data visualization\n",
    "import matplotlib.pyplot as plt\n",
    "import seaborn as sns\n",
    "import plotly.express as px\n"
   ]
  },
  {
   "cell_type": "code",
   "execution_count": 2,
   "id": "5682ffaa",
   "metadata": {},
   "outputs": [],
   "source": [
    "Jan_data = pd.read_csv('Sales_January_2019.csv')\n",
    "Feb_data = pd.read_csv('Sales_February_2019.csv')\n",
    "Mar_data = pd.read_csv('Sales_March_2019.csv')\n",
    "Apr_data = pd.read_csv('Sales_April_2019.csv')\n",
    "May_data = pd.read_csv('Sales_May_2019.csv')\n",
    "Jun_data = pd.read_csv('Sales_June_2019.csv')\n",
    "Jul_data = pd.read_csv('Sales_July_2019.csv')\n",
    "Aug_data = pd.read_csv('Sales_August_2019.csv')\n",
    "Sep_data = pd.read_csv('Sales_September_2019.csv')\n",
    "Oct_data = pd.read_csv('Sales_October_2019.csv')\n",
    "Nov_data = pd.read_csv('Sales_November_2019.csv')\n",
    "Dec_data = pd.read_csv('Sales_December_2019.csv')"
   ]
  },
  {
   "cell_type": "code",
   "execution_count": 3,
   "id": "864f37b2",
   "metadata": {},
   "outputs": [],
   "source": [
    "All_month_data = pd.DataFrame()\n",
    "\n",
    "All_month_data = pd.concat([Jan_data, Feb_data, Mar_data, Apr_data, May_data, Jun_data, Jul_data, Aug_data,\n",
    "                           Sep_data, Oct_data, Nov_data, Dec_data])"
   ]
  },
  {
   "cell_type": "code",
   "execution_count": 4,
   "id": "5e7ef8a3",
   "metadata": {},
   "outputs": [],
   "source": [
    "All_month_data.to_csv('All_Data.csv', index=False)"
   ]
  },
  {
   "cell_type": "markdown",
   "id": "eb1a1d0f",
   "metadata": {},
   "source": [
    "### Reading the \"All_Data.csv\" to Start the analysis"
   ]
  },
  {
   "cell_type": "code",
   "execution_count": 5,
   "id": "a2ea4724",
   "metadata": {},
   "outputs": [
    {
     "data": {
      "text/html": [
       "<div>\n",
       "<style scoped>\n",
       "    .dataframe tbody tr th:only-of-type {\n",
       "        vertical-align: middle;\n",
       "    }\n",
       "\n",
       "    .dataframe tbody tr th {\n",
       "        vertical-align: top;\n",
       "    }\n",
       "\n",
       "    .dataframe thead th {\n",
       "        text-align: right;\n",
       "    }\n",
       "</style>\n",
       "<table border=\"1\" class=\"dataframe\">\n",
       "  <thead>\n",
       "    <tr style=\"text-align: right;\">\n",
       "      <th></th>\n",
       "      <th>Order ID</th>\n",
       "      <th>Product</th>\n",
       "      <th>Quantity Ordered</th>\n",
       "      <th>Price Each</th>\n",
       "      <th>Order Date</th>\n",
       "      <th>Purchase Address</th>\n",
       "    </tr>\n",
       "  </thead>\n",
       "  <tbody>\n",
       "    <tr>\n",
       "      <th>0</th>\n",
       "      <td>141234</td>\n",
       "      <td>iPhone</td>\n",
       "      <td>1</td>\n",
       "      <td>700</td>\n",
       "      <td>01/22/19 21:25</td>\n",
       "      <td>944 Walnut St, Boston, MA 02215</td>\n",
       "    </tr>\n",
       "    <tr>\n",
       "      <th>1</th>\n",
       "      <td>141235</td>\n",
       "      <td>Lightning Charging Cable</td>\n",
       "      <td>1</td>\n",
       "      <td>14.95</td>\n",
       "      <td>01/28/19 14:15</td>\n",
       "      <td>185 Maple St, Portland, OR 97035</td>\n",
       "    </tr>\n",
       "    <tr>\n",
       "      <th>2</th>\n",
       "      <td>141236</td>\n",
       "      <td>Wired Headphones</td>\n",
       "      <td>2</td>\n",
       "      <td>11.99</td>\n",
       "      <td>01/17/19 13:33</td>\n",
       "      <td>538 Adams St, San Francisco, CA 94016</td>\n",
       "    </tr>\n",
       "    <tr>\n",
       "      <th>3</th>\n",
       "      <td>141237</td>\n",
       "      <td>27in FHD Monitor</td>\n",
       "      <td>1</td>\n",
       "      <td>149.99</td>\n",
       "      <td>01/05/19 20:33</td>\n",
       "      <td>738 10th St, Los Angeles, CA 90001</td>\n",
       "    </tr>\n",
       "    <tr>\n",
       "      <th>4</th>\n",
       "      <td>141238</td>\n",
       "      <td>Wired Headphones</td>\n",
       "      <td>1</td>\n",
       "      <td>11.99</td>\n",
       "      <td>01/25/19 11:59</td>\n",
       "      <td>387 10th St, Austin, TX 73301</td>\n",
       "    </tr>\n",
       "  </tbody>\n",
       "</table>\n",
       "</div>"
      ],
      "text/plain": [
       "  Order ID                   Product Quantity Ordered Price Each  \\\n",
       "0   141234                    iPhone                1        700   \n",
       "1   141235  Lightning Charging Cable                1      14.95   \n",
       "2   141236          Wired Headphones                2      11.99   \n",
       "3   141237          27in FHD Monitor                1     149.99   \n",
       "4   141238          Wired Headphones                1      11.99   \n",
       "\n",
       "       Order Date                       Purchase Address  \n",
       "0  01/22/19 21:25        944 Walnut St, Boston, MA 02215  \n",
       "1  01/28/19 14:15       185 Maple St, Portland, OR 97035  \n",
       "2  01/17/19 13:33  538 Adams St, San Francisco, CA 94016  \n",
       "3  01/05/19 20:33     738 10th St, Los Angeles, CA 90001  \n",
       "4  01/25/19 11:59          387 10th St, Austin, TX 73301  "
      ]
     },
     "execution_count": 5,
     "metadata": {},
     "output_type": "execute_result"
    }
   ],
   "source": [
    "# Reading the Sales data \n",
    "Sales_Data = pd.read_csv('All_Data.csv')\n",
    "Sales_Data.head()"
   ]
  },
  {
   "cell_type": "code",
   "execution_count": 6,
   "id": "385372a6",
   "metadata": {},
   "outputs": [
    {
     "data": {
      "text/plain": [
       "(186850, 6)"
      ]
     },
     "execution_count": 6,
     "metadata": {},
     "output_type": "execute_result"
    }
   ],
   "source": [
    "# Checking the shape of the Sales Data\n",
    "Sales_Data.shape"
   ]
  },
  {
   "cell_type": "code",
   "execution_count": 7,
   "id": "fa571b27",
   "metadata": {},
   "outputs": [
    {
     "data": {
      "text/plain": [
       "Order ID            object\n",
       "Product             object\n",
       "Quantity Ordered    object\n",
       "Price Each          object\n",
       "Order Date          object\n",
       "Purchase Address    object\n",
       "dtype: object"
      ]
     },
     "execution_count": 7,
     "metadata": {},
     "output_type": "execute_result"
    }
   ],
   "source": [
    "# Checking the Datatypes of the columns \n",
    "Sales_Data.dtypes"
   ]
  },
  {
   "cell_type": "code",
   "execution_count": 8,
   "id": "55c686c7",
   "metadata": {},
   "outputs": [],
   "source": [
    "# Renaming the Column names of the Data set\n",
    "new_cols_dict = {\n",
    "    'Order ID':'Order_Id',\n",
    "    'Product':'Product',\n",
    "    'Quantity Ordered':'Quantity_Ordered',\n",
    "    'Price Each':'Price_Each',\n",
    "    'Order Date':'Order_Date',\n",
    "    'Purchase Address':'Purchase_Address'\n",
    "}\n",
    "\n",
    "Sales_Data.rename(new_cols_dict, axis=1, inplace=True)"
   ]
  },
  {
   "cell_type": "code",
   "execution_count": 9,
   "id": "e90d2e4b",
   "metadata": {},
   "outputs": [
    {
     "data": {
      "text/plain": [
       "Order_Id            object\n",
       "Product             object\n",
       "Quantity_Ordered    object\n",
       "Price_Each          object\n",
       "Order_Date          object\n",
       "Purchase_Address    object\n",
       "dtype: object"
      ]
     },
     "execution_count": 9,
     "metadata": {},
     "output_type": "execute_result"
    }
   ],
   "source": [
    "# Checking the Data Types\n",
    "Sales_Data.dtypes"
   ]
  },
  {
   "cell_type": "code",
   "execution_count": 10,
   "id": "9ee3b08e",
   "metadata": {},
   "outputs": [
    {
     "data": {
      "text/plain": [
       "Index(['Order_Id', 'Product', 'Quantity_Ordered', 'Price_Each', 'Order_Date',\n",
       "       'Purchase_Address'],\n",
       "      dtype='object')"
      ]
     },
     "execution_count": 10,
     "metadata": {},
     "output_type": "execute_result"
    }
   ],
   "source": [
    "Sales_Data.columns"
   ]
  },
  {
   "cell_type": "markdown",
   "id": "74f99f8c",
   "metadata": {},
   "source": [
    "### Changing the Data types to the desired Data types"
   ]
  },
  {
   "cell_type": "code",
   "execution_count": 11,
   "id": "00dbf726",
   "metadata": {},
   "outputs": [],
   "source": [
    "Sales_Data.Order_Date = pd.to_datetime(Sales_Data.Order_Date, errors ='coerce')"
   ]
  },
  {
   "cell_type": "code",
   "execution_count": 20,
   "id": "2a1d4504",
   "metadata": {},
   "outputs": [],
   "source": [
    "Sales_Data.Order_Id = Sales_Data.Order_Id.astype('int')"
   ]
  },
  {
   "cell_type": "code",
   "execution_count": 21,
   "id": "0d64b3cf",
   "metadata": {},
   "outputs": [],
   "source": [
    "Sales_Data.Quantity_Ordered = Sales_Data.Quantity_Ordered.astype('int')"
   ]
  },
  {
   "cell_type": "code",
   "execution_count": 22,
   "id": "141df601",
   "metadata": {},
   "outputs": [],
   "source": [
    "Sales_Data.Price_Each = Sales_Data.Price_Each.astype('float')"
   ]
  },
  {
   "cell_type": "code",
   "execution_count": 23,
   "id": "af6f6a57",
   "metadata": {},
   "outputs": [
    {
     "data": {
      "text/plain": [
       "Order_Id                     int32\n",
       "Product                     object\n",
       "Quantity_Ordered             int32\n",
       "Price_Each                 float64\n",
       "Order_Date          datetime64[ns]\n",
       "Purchase_Address            object\n",
       "dtype: object"
      ]
     },
     "execution_count": 23,
     "metadata": {},
     "output_type": "execute_result"
    }
   ],
   "source": [
    "Sales_Data.dtypes"
   ]
  },
  {
   "cell_type": "code",
   "execution_count": 24,
   "id": "1654b704",
   "metadata": {},
   "outputs": [
    {
     "data": {
      "text/html": [
       "<div>\n",
       "<style scoped>\n",
       "    .dataframe tbody tr th:only-of-type {\n",
       "        vertical-align: middle;\n",
       "    }\n",
       "\n",
       "    .dataframe tbody tr th {\n",
       "        vertical-align: top;\n",
       "    }\n",
       "\n",
       "    .dataframe thead th {\n",
       "        text-align: right;\n",
       "    }\n",
       "</style>\n",
       "<table border=\"1\" class=\"dataframe\">\n",
       "  <thead>\n",
       "    <tr style=\"text-align: right;\">\n",
       "      <th></th>\n",
       "      <th>Order_Id</th>\n",
       "      <th>Product</th>\n",
       "      <th>Quantity_Ordered</th>\n",
       "      <th>Price_Each</th>\n",
       "      <th>Order_Date</th>\n",
       "      <th>Purchase_Address</th>\n",
       "    </tr>\n",
       "  </thead>\n",
       "  <tbody>\n",
       "    <tr>\n",
       "      <th>0</th>\n",
       "      <td>141234</td>\n",
       "      <td>iPhone</td>\n",
       "      <td>1</td>\n",
       "      <td>700.00</td>\n",
       "      <td>2019-01-22 21:25:00</td>\n",
       "      <td>944 Walnut St, Boston, MA 02215</td>\n",
       "    </tr>\n",
       "    <tr>\n",
       "      <th>1</th>\n",
       "      <td>141235</td>\n",
       "      <td>Lightning Charging Cable</td>\n",
       "      <td>1</td>\n",
       "      <td>14.95</td>\n",
       "      <td>2019-01-28 14:15:00</td>\n",
       "      <td>185 Maple St, Portland, OR 97035</td>\n",
       "    </tr>\n",
       "    <tr>\n",
       "      <th>2</th>\n",
       "      <td>141236</td>\n",
       "      <td>Wired Headphones</td>\n",
       "      <td>2</td>\n",
       "      <td>11.99</td>\n",
       "      <td>2019-01-17 13:33:00</td>\n",
       "      <td>538 Adams St, San Francisco, CA 94016</td>\n",
       "    </tr>\n",
       "    <tr>\n",
       "      <th>3</th>\n",
       "      <td>141237</td>\n",
       "      <td>27in FHD Monitor</td>\n",
       "      <td>1</td>\n",
       "      <td>149.99</td>\n",
       "      <td>2019-01-05 20:33:00</td>\n",
       "      <td>738 10th St, Los Angeles, CA 90001</td>\n",
       "    </tr>\n",
       "    <tr>\n",
       "      <th>4</th>\n",
       "      <td>141238</td>\n",
       "      <td>Wired Headphones</td>\n",
       "      <td>1</td>\n",
       "      <td>11.99</td>\n",
       "      <td>2019-01-25 11:59:00</td>\n",
       "      <td>387 10th St, Austin, TX 73301</td>\n",
       "    </tr>\n",
       "  </tbody>\n",
       "</table>\n",
       "</div>"
      ],
      "text/plain": [
       "   Order_Id                   Product  Quantity_Ordered  Price_Each  \\\n",
       "0    141234                    iPhone                 1      700.00   \n",
       "1    141235  Lightning Charging Cable                 1       14.95   \n",
       "2    141236          Wired Headphones                 2       11.99   \n",
       "3    141237          27in FHD Monitor                 1      149.99   \n",
       "4    141238          Wired Headphones                 1       11.99   \n",
       "\n",
       "           Order_Date                       Purchase_Address  \n",
       "0 2019-01-22 21:25:00        944 Walnut St, Boston, MA 02215  \n",
       "1 2019-01-28 14:15:00       185 Maple St, Portland, OR 97035  \n",
       "2 2019-01-17 13:33:00  538 Adams St, San Francisco, CA 94016  \n",
       "3 2019-01-05 20:33:00     738 10th St, Los Angeles, CA 90001  \n",
       "4 2019-01-25 11:59:00          387 10th St, Austin, TX 73301  "
      ]
     },
     "execution_count": 24,
     "metadata": {},
     "output_type": "execute_result"
    }
   ],
   "source": [
    "Sales_Data.head()"
   ]
  },
  {
   "cell_type": "code",
   "execution_count": 25,
   "id": "1e0ac6c2",
   "metadata": {},
   "outputs": [
    {
     "data": {
      "text/plain": [
       "0"
      ]
     },
     "execution_count": 25,
     "metadata": {},
     "output_type": "execute_result"
    }
   ],
   "source": [
    "# Checking for duplicated Rows\n",
    "Sales_Data.duplicated().sum()"
   ]
  },
  {
   "cell_type": "code",
   "execution_count": 13,
   "id": "ce914143",
   "metadata": {},
   "outputs": [],
   "source": [
    "# Dropping the duplicated Rows\n",
    "Sales_Data.drop_duplicates(inplace=True)"
   ]
  },
  {
   "cell_type": "code",
   "execution_count": 14,
   "id": "32f4583a",
   "metadata": {},
   "outputs": [
    {
     "data": {
      "text/plain": [
       "(185688, 6)"
      ]
     },
     "execution_count": 14,
     "metadata": {},
     "output_type": "execute_result"
    }
   ],
   "source": [
    "# Checking for the Shape to see of the Duplicated rows has been deleted or not\n",
    "Sales_Data.shape"
   ]
  },
  {
   "cell_type": "code",
   "execution_count": 15,
   "id": "03a80bce",
   "metadata": {},
   "outputs": [
    {
     "data": {
      "text/plain": [
       "Order_Id            1\n",
       "Product             1\n",
       "Quantity_Ordered    1\n",
       "Price_Each          1\n",
       "Order_Date          2\n",
       "Purchase_Address    1\n",
       "dtype: int64"
      ]
     },
     "execution_count": 15,
     "metadata": {},
     "output_type": "execute_result"
    }
   ],
   "source": [
    "# Checking for Null Values\n",
    "Sales_Data.isnull().sum()"
   ]
  },
  {
   "cell_type": "code",
   "execution_count": 16,
   "id": "10149edd",
   "metadata": {},
   "outputs": [],
   "source": [
    "# Dropping the Null Values\n",
    "Sales_Data.dropna(inplace=True)"
   ]
  },
  {
   "cell_type": "code",
   "execution_count": 17,
   "id": "900ab6dd",
   "metadata": {},
   "outputs": [
    {
     "data": {
      "text/plain": [
       "(185686, 6)"
      ]
     },
     "execution_count": 17,
     "metadata": {},
     "output_type": "execute_result"
    }
   ],
   "source": [
    "Sales_Data.shape"
   ]
  },
  {
   "cell_type": "code",
   "execution_count": 18,
   "id": "ae89690b",
   "metadata": {},
   "outputs": [
    {
     "data": {
      "text/plain": [
       "Order_Id                    object\n",
       "Product                     object\n",
       "Quantity_Ordered            object\n",
       "Price_Each                  object\n",
       "Order_Date          datetime64[ns]\n",
       "Purchase_Address            object\n",
       "dtype: object"
      ]
     },
     "execution_count": 18,
     "metadata": {},
     "output_type": "execute_result"
    }
   ],
   "source": [
    "Sales_Data.dtypes"
   ]
  },
  {
   "cell_type": "code",
   "execution_count": 19,
   "id": "78d56b46",
   "metadata": {},
   "outputs": [],
   "source": [
    "#Sales_Data.to_csv(\"All_sales_data_2019.csv\", index = False)"
   ]
  },
  {
   "cell_type": "markdown",
   "id": "0bc1f9b1",
   "metadata": {},
   "source": [
    "### Starting with the analysis by Answering some questions."
   ]
  },
  {
   "cell_type": "markdown",
   "id": "8bf8dffd",
   "metadata": {},
   "source": [
    "### Q1. What was the best month for Sales? and How much was earned that month"
   ]
  },
  {
   "cell_type": "markdown",
   "id": "e003bcab",
   "metadata": {},
   "source": [
    "### Extracting the month form the Order Date column and adding the new month column in the Sales Data."
   ]
  },
  {
   "cell_type": "code",
   "execution_count": 26,
   "id": "cca4f5be",
   "metadata": {},
   "outputs": [],
   "source": [
    "# Adding the month columns\n",
    "Sales_Data['Order_Month'] = Sales_Data.Order_Date.dt.month"
   ]
  },
  {
   "cell_type": "code",
   "execution_count": 27,
   "id": "edca098e",
   "metadata": {},
   "outputs": [
    {
     "data": {
      "text/plain": [
       "Order_Id                     int32\n",
       "Product                     object\n",
       "Quantity_Ordered             int32\n",
       "Price_Each                 float64\n",
       "Order_Date          datetime64[ns]\n",
       "Purchase_Address            object\n",
       "Order_Month                  int64\n",
       "dtype: object"
      ]
     },
     "execution_count": 27,
     "metadata": {},
     "output_type": "execute_result"
    }
   ],
   "source": [
    "Sales_Data.dtypes"
   ]
  },
  {
   "cell_type": "markdown",
   "id": "93fdab4e",
   "metadata": {},
   "source": [
    "### Adding the Sales Column in the Sales Data Frame"
   ]
  },
  {
   "cell_type": "code",
   "execution_count": 28,
   "id": "737d350f",
   "metadata": {},
   "outputs": [
    {
     "data": {
      "text/plain": [
       "USB-C Charging Cable          21859\n",
       "Lightning Charging Cable      21610\n",
       "AAA Batteries (4-pack)        20612\n",
       "AA Batteries (4-pack)         20558\n",
       "Wired Headphones              18849\n",
       "Apple Airpods Headphones      15525\n",
       "Bose SoundSport Headphones    13298\n",
       "27in FHD Monitor               7498\n",
       "iPhone                         6840\n",
       "27in 4K Gaming Monitor         6225\n",
       "34in Ultrawide Monitor         6174\n",
       "Google Phone                   5522\n",
       "Flatscreen TV                  4794\n",
       "Macbook Pro Laptop             4721\n",
       "ThinkPad Laptop                4126\n",
       "20in Monitor                   4098\n",
       "Vareebadd Phone                2065\n",
       "LG Washing Machine              666\n",
       "LG Dryer                        646\n",
       "Name: Product, dtype: int64"
      ]
     },
     "execution_count": 28,
     "metadata": {},
     "output_type": "execute_result"
    }
   ],
   "source": [
    "Sales_Data.Product.value_counts()"
   ]
  },
  {
   "cell_type": "code",
   "execution_count": 29,
   "id": "e47c1a40",
   "metadata": {},
   "outputs": [],
   "source": [
    "Sales_Data['Sales'] = Sales_Data.Quantity_Ordered * Sales_Data.Price_Each"
   ]
  },
  {
   "cell_type": "code",
   "execution_count": 30,
   "id": "79cf2102",
   "metadata": {
    "scrolled": false
   },
   "outputs": [
    {
     "data": {
      "text/html": [
       "<div>\n",
       "<style scoped>\n",
       "    .dataframe tbody tr th:only-of-type {\n",
       "        vertical-align: middle;\n",
       "    }\n",
       "\n",
       "    .dataframe tbody tr th {\n",
       "        vertical-align: top;\n",
       "    }\n",
       "\n",
       "    .dataframe thead th {\n",
       "        text-align: right;\n",
       "    }\n",
       "</style>\n",
       "<table border=\"1\" class=\"dataframe\">\n",
       "  <thead>\n",
       "    <tr style=\"text-align: right;\">\n",
       "      <th></th>\n",
       "      <th>Order_Id</th>\n",
       "      <th>Product</th>\n",
       "      <th>Quantity_Ordered</th>\n",
       "      <th>Price_Each</th>\n",
       "      <th>Order_Date</th>\n",
       "      <th>Purchase_Address</th>\n",
       "      <th>Order_Month</th>\n",
       "      <th>Sales</th>\n",
       "    </tr>\n",
       "  </thead>\n",
       "  <tbody>\n",
       "    <tr>\n",
       "      <th>0</th>\n",
       "      <td>141234</td>\n",
       "      <td>iPhone</td>\n",
       "      <td>1</td>\n",
       "      <td>700.00</td>\n",
       "      <td>2019-01-22 21:25:00</td>\n",
       "      <td>944 Walnut St, Boston, MA 02215</td>\n",
       "      <td>1</td>\n",
       "      <td>700.00</td>\n",
       "    </tr>\n",
       "    <tr>\n",
       "      <th>1</th>\n",
       "      <td>141235</td>\n",
       "      <td>Lightning Charging Cable</td>\n",
       "      <td>1</td>\n",
       "      <td>14.95</td>\n",
       "      <td>2019-01-28 14:15:00</td>\n",
       "      <td>185 Maple St, Portland, OR 97035</td>\n",
       "      <td>1</td>\n",
       "      <td>14.95</td>\n",
       "    </tr>\n",
       "    <tr>\n",
       "      <th>2</th>\n",
       "      <td>141236</td>\n",
       "      <td>Wired Headphones</td>\n",
       "      <td>2</td>\n",
       "      <td>11.99</td>\n",
       "      <td>2019-01-17 13:33:00</td>\n",
       "      <td>538 Adams St, San Francisco, CA 94016</td>\n",
       "      <td>1</td>\n",
       "      <td>23.98</td>\n",
       "    </tr>\n",
       "    <tr>\n",
       "      <th>3</th>\n",
       "      <td>141237</td>\n",
       "      <td>27in FHD Monitor</td>\n",
       "      <td>1</td>\n",
       "      <td>149.99</td>\n",
       "      <td>2019-01-05 20:33:00</td>\n",
       "      <td>738 10th St, Los Angeles, CA 90001</td>\n",
       "      <td>1</td>\n",
       "      <td>149.99</td>\n",
       "    </tr>\n",
       "    <tr>\n",
       "      <th>4</th>\n",
       "      <td>141238</td>\n",
       "      <td>Wired Headphones</td>\n",
       "      <td>1</td>\n",
       "      <td>11.99</td>\n",
       "      <td>2019-01-25 11:59:00</td>\n",
       "      <td>387 10th St, Austin, TX 73301</td>\n",
       "      <td>1</td>\n",
       "      <td>11.99</td>\n",
       "    </tr>\n",
       "    <tr>\n",
       "      <th>...</th>\n",
       "      <td>...</td>\n",
       "      <td>...</td>\n",
       "      <td>...</td>\n",
       "      <td>...</td>\n",
       "      <td>...</td>\n",
       "      <td>...</td>\n",
       "      <td>...</td>\n",
       "      <td>...</td>\n",
       "    </tr>\n",
       "    <tr>\n",
       "      <th>186845</th>\n",
       "      <td>319666</td>\n",
       "      <td>Lightning Charging Cable</td>\n",
       "      <td>1</td>\n",
       "      <td>14.95</td>\n",
       "      <td>2019-12-11 20:58:00</td>\n",
       "      <td>14 Madison St, San Francisco, CA 94016</td>\n",
       "      <td>12</td>\n",
       "      <td>14.95</td>\n",
       "    </tr>\n",
       "    <tr>\n",
       "      <th>186846</th>\n",
       "      <td>319667</td>\n",
       "      <td>AA Batteries (4-pack)</td>\n",
       "      <td>2</td>\n",
       "      <td>3.84</td>\n",
       "      <td>2019-12-01 12:01:00</td>\n",
       "      <td>549 Willow St, Los Angeles, CA 90001</td>\n",
       "      <td>12</td>\n",
       "      <td>7.68</td>\n",
       "    </tr>\n",
       "    <tr>\n",
       "      <th>186847</th>\n",
       "      <td>319668</td>\n",
       "      <td>Vareebadd Phone</td>\n",
       "      <td>1</td>\n",
       "      <td>400.00</td>\n",
       "      <td>2019-12-09 06:43:00</td>\n",
       "      <td>273 Wilson St, Seattle, WA 98101</td>\n",
       "      <td>12</td>\n",
       "      <td>400.00</td>\n",
       "    </tr>\n",
       "    <tr>\n",
       "      <th>186848</th>\n",
       "      <td>319669</td>\n",
       "      <td>Wired Headphones</td>\n",
       "      <td>1</td>\n",
       "      <td>11.99</td>\n",
       "      <td>2019-12-03 10:39:00</td>\n",
       "      <td>778 River St, Dallas, TX 75001</td>\n",
       "      <td>12</td>\n",
       "      <td>11.99</td>\n",
       "    </tr>\n",
       "    <tr>\n",
       "      <th>186849</th>\n",
       "      <td>319670</td>\n",
       "      <td>Bose SoundSport Headphones</td>\n",
       "      <td>1</td>\n",
       "      <td>99.99</td>\n",
       "      <td>2019-12-21 21:45:00</td>\n",
       "      <td>747 Chestnut St, Los Angeles, CA 90001</td>\n",
       "      <td>12</td>\n",
       "      <td>99.99</td>\n",
       "    </tr>\n",
       "  </tbody>\n",
       "</table>\n",
       "<p>185686 rows × 8 columns</p>\n",
       "</div>"
      ],
      "text/plain": [
       "        Order_Id                     Product  Quantity_Ordered  Price_Each  \\\n",
       "0         141234                      iPhone                 1      700.00   \n",
       "1         141235    Lightning Charging Cable                 1       14.95   \n",
       "2         141236            Wired Headphones                 2       11.99   \n",
       "3         141237            27in FHD Monitor                 1      149.99   \n",
       "4         141238            Wired Headphones                 1       11.99   \n",
       "...          ...                         ...               ...         ...   \n",
       "186845    319666    Lightning Charging Cable                 1       14.95   \n",
       "186846    319667       AA Batteries (4-pack)                 2        3.84   \n",
       "186847    319668             Vareebadd Phone                 1      400.00   \n",
       "186848    319669            Wired Headphones                 1       11.99   \n",
       "186849    319670  Bose SoundSport Headphones                 1       99.99   \n",
       "\n",
       "                Order_Date                        Purchase_Address  \\\n",
       "0      2019-01-22 21:25:00         944 Walnut St, Boston, MA 02215   \n",
       "1      2019-01-28 14:15:00        185 Maple St, Portland, OR 97035   \n",
       "2      2019-01-17 13:33:00   538 Adams St, San Francisco, CA 94016   \n",
       "3      2019-01-05 20:33:00      738 10th St, Los Angeles, CA 90001   \n",
       "4      2019-01-25 11:59:00           387 10th St, Austin, TX 73301   \n",
       "...                    ...                                     ...   \n",
       "186845 2019-12-11 20:58:00  14 Madison St, San Francisco, CA 94016   \n",
       "186846 2019-12-01 12:01:00    549 Willow St, Los Angeles, CA 90001   \n",
       "186847 2019-12-09 06:43:00        273 Wilson St, Seattle, WA 98101   \n",
       "186848 2019-12-03 10:39:00          778 River St, Dallas, TX 75001   \n",
       "186849 2019-12-21 21:45:00  747 Chestnut St, Los Angeles, CA 90001   \n",
       "\n",
       "        Order_Month   Sales  \n",
       "0                 1  700.00  \n",
       "1                 1   14.95  \n",
       "2                 1   23.98  \n",
       "3                 1  149.99  \n",
       "4                 1   11.99  \n",
       "...             ...     ...  \n",
       "186845           12   14.95  \n",
       "186846           12    7.68  \n",
       "186847           12  400.00  \n",
       "186848           12   11.99  \n",
       "186849           12   99.99  \n",
       "\n",
       "[185686 rows x 8 columns]"
      ]
     },
     "execution_count": 30,
     "metadata": {},
     "output_type": "execute_result"
    }
   ],
   "source": [
    "Sales_Data"
   ]
  },
  {
   "cell_type": "code",
   "execution_count": 31,
   "id": "d5562be5",
   "metadata": {},
   "outputs": [
    {
     "data": {
      "text/plain": [
       "Text(0, 0.5, 'Number of Sales')"
      ]
     },
     "execution_count": 31,
     "metadata": {},
     "output_type": "execute_result"
    },
    {
     "data": {
      "image/png": "[encoded data removed]",
      "text/plain": [
       "<Figure size 640x480 with 1 Axes>"
      ]
     },
     "metadata": {},
     "output_type": "display_data"
    }
   ],
   "source": [
    "Sales_Data.groupby('Order_Month').count()['Sales'].plot(kind = 'bar')\n",
    "plt.title('Monthly Sales')\n",
    "plt.legend()\n",
    "plt.xlabel('Months')\n",
    "plt.ylabel('Number of Sales')"
   ]
  },
  {
   "cell_type": "code",
   "execution_count": 32,
   "id": "091220d7",
   "metadata": {},
   "outputs": [
    {
     "data": {
      "text/plain": [
       "\"sales_count = Sales_Data.groupby('Order_Month').count()['Sales']\\n\\n# Plotting the bar chart\\nax = sales_count.plot(kind='bar')\\n\\n# Adding labels to each bar\\nfor i, v in enumerate(sales_count):\\n    ax.text(i, v, str(v), ha='center', va='bottom')\\n\\nplt.title('Monthly Sales')\\nplt.legend()\\nplt.show()\""
      ]
     },
     "execution_count": 32,
     "metadata": {},
     "output_type": "execute_result"
    }
   ],
   "source": [
    "'''sales_count = Sales_Data.groupby('Order_Month').count()['Sales']\n",
    "\n",
    "# Plotting the bar chart\n",
    "ax = sales_count.plot(kind='bar')\n",
    "\n",
    "# Adding labels to each bar\n",
    "for i, v in enumerate(sales_count):\n",
    "    ax.text(i, v, str(v), ha='center', va='bottom')\n",
    "\n",
    "plt.title('Monthly Sales')\n",
    "plt.legend()\n",
    "plt.show()'''"
   ]
  },
  {
   "cell_type": "code",
   "execution_count": 33,
   "id": "193990c4",
   "metadata": {},
   "outputs": [
    {
     "data": {
      "text/plain": [
       "Order_Month\n",
       "1     1821413.16\n",
       "2     2200078.08\n",
       "3     2804973.35\n",
       "4     3389217.98\n",
       "5     3150616.23\n",
       "6     2576280.15\n",
       "7     2646461.32\n",
       "8     2241083.37\n",
       "9     2094465.69\n",
       "10    3734777.86\n",
       "11    3197875.05\n",
       "12    4608295.70\n",
       "Name: Sales, dtype: float64"
      ]
     },
     "execution_count": 33,
     "metadata": {},
     "output_type": "execute_result"
    }
   ],
   "source": [
    "Sales_Data.groupby('Order_Month').sum()['Sales']"
   ]
  },
  {
   "cell_type": "markdown",
   "id": "8f424f99",
   "metadata": {},
   "source": [
    "### The best month for sales is December with a total sale of 24944 with a amount of 4608295.70 dollars."
   ]
  },
  {
   "cell_type": "markdown",
   "id": "c9c2cf81",
   "metadata": {},
   "source": [
    "### Q2. What City sold the most products?"
   ]
  },
  {
   "cell_type": "markdown",
   "id": "d338c421",
   "metadata": {},
   "source": [
    "### Adding the City column in the Sales data set"
   ]
  },
  {
   "cell_type": "code",
   "execution_count": 34,
   "id": "e45640b8",
   "metadata": {},
   "outputs": [
    {
     "data": {
      "text/html": [
       "<div>\n",
       "<style scoped>\n",
       "    .dataframe tbody tr th:only-of-type {\n",
       "        vertical-align: middle;\n",
       "    }\n",
       "\n",
       "    .dataframe tbody tr th {\n",
       "        vertical-align: top;\n",
       "    }\n",
       "\n",
       "    .dataframe thead th {\n",
       "        text-align: right;\n",
       "    }\n",
       "</style>\n",
       "<table border=\"1\" class=\"dataframe\">\n",
       "  <thead>\n",
       "    <tr style=\"text-align: right;\">\n",
       "      <th></th>\n",
       "      <th>Order_Id</th>\n",
       "      <th>Product</th>\n",
       "      <th>Quantity_Ordered</th>\n",
       "      <th>Price_Each</th>\n",
       "      <th>Order_Date</th>\n",
       "      <th>Purchase_Address</th>\n",
       "      <th>Order_Month</th>\n",
       "      <th>Sales</th>\n",
       "      <th>City</th>\n",
       "    </tr>\n",
       "  </thead>\n",
       "  <tbody>\n",
       "    <tr>\n",
       "      <th>0</th>\n",
       "      <td>141234</td>\n",
       "      <td>iPhone</td>\n",
       "      <td>1</td>\n",
       "      <td>700.00</td>\n",
       "      <td>2019-01-22 21:25:00</td>\n",
       "      <td>944 Walnut St, Boston, MA 02215</td>\n",
       "      <td>1</td>\n",
       "      <td>700.00</td>\n",
       "      <td>Boston</td>\n",
       "    </tr>\n",
       "    <tr>\n",
       "      <th>1</th>\n",
       "      <td>141235</td>\n",
       "      <td>Lightning Charging Cable</td>\n",
       "      <td>1</td>\n",
       "      <td>14.95</td>\n",
       "      <td>2019-01-28 14:15:00</td>\n",
       "      <td>185 Maple St, Portland, OR 97035</td>\n",
       "      <td>1</td>\n",
       "      <td>14.95</td>\n",
       "      <td>Portland</td>\n",
       "    </tr>\n",
       "    <tr>\n",
       "      <th>2</th>\n",
       "      <td>141236</td>\n",
       "      <td>Wired Headphones</td>\n",
       "      <td>2</td>\n",
       "      <td>11.99</td>\n",
       "      <td>2019-01-17 13:33:00</td>\n",
       "      <td>538 Adams St, San Francisco, CA 94016</td>\n",
       "      <td>1</td>\n",
       "      <td>23.98</td>\n",
       "      <td>San Francisco</td>\n",
       "    </tr>\n",
       "    <tr>\n",
       "      <th>3</th>\n",
       "      <td>141237</td>\n",
       "      <td>27in FHD Monitor</td>\n",
       "      <td>1</td>\n",
       "      <td>149.99</td>\n",
       "      <td>2019-01-05 20:33:00</td>\n",
       "      <td>738 10th St, Los Angeles, CA 90001</td>\n",
       "      <td>1</td>\n",
       "      <td>149.99</td>\n",
       "      <td>Los Angeles</td>\n",
       "    </tr>\n",
       "    <tr>\n",
       "      <th>4</th>\n",
       "      <td>141238</td>\n",
       "      <td>Wired Headphones</td>\n",
       "      <td>1</td>\n",
       "      <td>11.99</td>\n",
       "      <td>2019-01-25 11:59:00</td>\n",
       "      <td>387 10th St, Austin, TX 73301</td>\n",
       "      <td>1</td>\n",
       "      <td>11.99</td>\n",
       "      <td>Austin</td>\n",
       "    </tr>\n",
       "    <tr>\n",
       "      <th>...</th>\n",
       "      <td>...</td>\n",
       "      <td>...</td>\n",
       "      <td>...</td>\n",
       "      <td>...</td>\n",
       "      <td>...</td>\n",
       "      <td>...</td>\n",
       "      <td>...</td>\n",
       "      <td>...</td>\n",
       "      <td>...</td>\n",
       "    </tr>\n",
       "    <tr>\n",
       "      <th>186845</th>\n",
       "      <td>319666</td>\n",
       "      <td>Lightning Charging Cable</td>\n",
       "      <td>1</td>\n",
       "      <td>14.95</td>\n",
       "      <td>2019-12-11 20:58:00</td>\n",
       "      <td>14 Madison St, San Francisco, CA 94016</td>\n",
       "      <td>12</td>\n",
       "      <td>14.95</td>\n",
       "      <td>San Francisco</td>\n",
       "    </tr>\n",
       "    <tr>\n",
       "      <th>186846</th>\n",
       "      <td>319667</td>\n",
       "      <td>AA Batteries (4-pack)</td>\n",
       "      <td>2</td>\n",
       "      <td>3.84</td>\n",
       "      <td>2019-12-01 12:01:00</td>\n",
       "      <td>549 Willow St, Los Angeles, CA 90001</td>\n",
       "      <td>12</td>\n",
       "      <td>7.68</td>\n",
       "      <td>Los Angeles</td>\n",
       "    </tr>\n",
       "    <tr>\n",
       "      <th>186847</th>\n",
       "      <td>319668</td>\n",
       "      <td>Vareebadd Phone</td>\n",
       "      <td>1</td>\n",
       "      <td>400.00</td>\n",
       "      <td>2019-12-09 06:43:00</td>\n",
       "      <td>273 Wilson St, Seattle, WA 98101</td>\n",
       "      <td>12</td>\n",
       "      <td>400.00</td>\n",
       "      <td>Seattle</td>\n",
       "    </tr>\n",
       "    <tr>\n",
       "      <th>186848</th>\n",
       "      <td>319669</td>\n",
       "      <td>Wired Headphones</td>\n",
       "      <td>1</td>\n",
       "      <td>11.99</td>\n",
       "      <td>2019-12-03 10:39:00</td>\n",
       "      <td>778 River St, Dallas, TX 75001</td>\n",
       "      <td>12</td>\n",
       "      <td>11.99</td>\n",
       "      <td>Dallas</td>\n",
       "    </tr>\n",
       "    <tr>\n",
       "      <th>186849</th>\n",
       "      <td>319670</td>\n",
       "      <td>Bose SoundSport Headphones</td>\n",
       "      <td>1</td>\n",
       "      <td>99.99</td>\n",
       "      <td>2019-12-21 21:45:00</td>\n",
       "      <td>747 Chestnut St, Los Angeles, CA 90001</td>\n",
       "      <td>12</td>\n",
       "      <td>99.99</td>\n",
       "      <td>Los Angeles</td>\n",
       "    </tr>\n",
       "  </tbody>\n",
       "</table>\n",
       "<p>185686 rows × 9 columns</p>\n",
       "</div>"
      ],
      "text/plain": [
       "        Order_Id                     Product  Quantity_Ordered  Price_Each  \\\n",
       "0         141234                      iPhone                 1      700.00   \n",
       "1         141235    Lightning Charging Cable                 1       14.95   \n",
       "2         141236            Wired Headphones                 2       11.99   \n",
       "3         141237            27in FHD Monitor                 1      149.99   \n",
       "4         141238            Wired Headphones                 1       11.99   \n",
       "...          ...                         ...               ...         ...   \n",
       "186845    319666    Lightning Charging Cable                 1       14.95   \n",
       "186846    319667       AA Batteries (4-pack)                 2        3.84   \n",
       "186847    319668             Vareebadd Phone                 1      400.00   \n",
       "186848    319669            Wired Headphones                 1       11.99   \n",
       "186849    319670  Bose SoundSport Headphones                 1       99.99   \n",
       "\n",
       "                Order_Date                        Purchase_Address  \\\n",
       "0      2019-01-22 21:25:00         944 Walnut St, Boston, MA 02215   \n",
       "1      2019-01-28 14:15:00        185 Maple St, Portland, OR 97035   \n",
       "2      2019-01-17 13:33:00   538 Adams St, San Francisco, CA 94016   \n",
       "3      2019-01-05 20:33:00      738 10th St, Los Angeles, CA 90001   \n",
       "4      2019-01-25 11:59:00           387 10th St, Austin, TX 73301   \n",
       "...                    ...                                     ...   \n",
       "186845 2019-12-11 20:58:00  14 Madison St, San Francisco, CA 94016   \n",
       "186846 2019-12-01 12:01:00    549 Willow St, Los Angeles, CA 90001   \n",
       "186847 2019-12-09 06:43:00        273 Wilson St, Seattle, WA 98101   \n",
       "186848 2019-12-03 10:39:00          778 River St, Dallas, TX 75001   \n",
       "186849 2019-12-21 21:45:00  747 Chestnut St, Los Angeles, CA 90001   \n",
       "\n",
       "        Order_Month   Sales            City  \n",
       "0                 1  700.00          Boston  \n",
       "1                 1   14.95        Portland  \n",
       "2                 1   23.98   San Francisco  \n",
       "3                 1  149.99     Los Angeles  \n",
       "4                 1   11.99          Austin  \n",
       "...             ...     ...             ...  \n",
       "186845           12   14.95   San Francisco  \n",
       "186846           12    7.68     Los Angeles  \n",
       "186847           12  400.00         Seattle  \n",
       "186848           12   11.99          Dallas  \n",
       "186849           12   99.99     Los Angeles  \n",
       "\n",
       "[185686 rows x 9 columns]"
      ]
     },
     "execution_count": 34,
     "metadata": {},
     "output_type": "execute_result"
    }
   ],
   "source": [
    "Sales_Data['City'] = Sales_Data.Purchase_Address.apply(lambda x: x.split(',')[1])\n",
    "Sales_Data"
   ]
  },
  {
   "cell_type": "code",
   "execution_count": 35,
   "id": "824a8e9d",
   "metadata": {},
   "outputs": [
    {
     "data": {
      "text/plain": [
       " San Francisco    44662\n",
       " Los Angeles      29564\n",
       " New York City    24847\n",
       " Boston           19901\n",
       " Atlanta          14863\n",
       " Dallas           14797\n",
       " Seattle          14713\n",
       " Portland         12449\n",
       " Austin            9890\n",
       "Name: City, dtype: int64"
      ]
     },
     "execution_count": 35,
     "metadata": {},
     "output_type": "execute_result"
    }
   ],
   "source": [
    "Sales_Data.City.value_counts()"
   ]
  },
  {
   "cell_type": "code",
   "execution_count": 86,
   "id": "f3b3f4fd",
   "metadata": {},
   "outputs": [
    {
     "data": {
      "text/plain": [
       "Text(0, 0.5, 'Number of Products')"
      ]
     },
     "execution_count": 86,
     "metadata": {},
     "output_type": "execute_result"
    },
    {
     "data": {
      "image/png": "[encoded data removed]",
      "text/plain": [
       "<Figure size 640x480 with 1 Axes>"
      ]
     },
     "metadata": {},
     "output_type": "display_data"
    }
   ],
   "source": [
    "Sales_Data.groupby('City').count()['Product'].plot(kind = 'bar')\n",
    "plt.title('City with Most Sold Products')\n",
    "plt.xlabel('Cities')\n",
    "plt.ylabel('Number of Products')\n"
   ]
  },
  {
   "cell_type": "code",
   "execution_count": 38,
   "id": "2c0789d7",
   "metadata": {},
   "outputs": [
    {
     "data": {
      "image/png": "[encoded data removed]",
      "text/plain": [
       "<Figure size 640x480 with 1 Axes>"
      ]
     },
     "metadata": {},
     "output_type": "display_data"
    }
   ],
   "source": [
    "Cities = Sales_Data.groupby('City').count()['Product']\n",
    "\n",
    "# Plotting the bar chart\n",
    "ax = Cities.plot(kind='bar')\n",
    "\n",
    "# Adding labels to each bar\n",
    "for i, v in enumerate(Cities):\n",
    "    ax.text(i, v, str(v), ha='center', va='bottom')\n",
    "\n",
    "plt.title('City with Most products Sold')\n",
    "plt.xlabel('Cities')\n",
    "plt.ylabel('Number of Products')\n",
    "plt.show()"
   ]
  },
  {
   "cell_type": "code",
   "execution_count": 39,
   "id": "b9c6fd91",
   "metadata": {},
   "outputs": [
    {
     "data": {
      "text/plain": [
       "City\n",
       " San Francisco    44662\n",
       " Los Angeles      29564\n",
       " New York City    24847\n",
       " Boston           19901\n",
       " Atlanta          14863\n",
       " Dallas           14797\n",
       " Seattle          14713\n",
       " Portland         12449\n",
       " Austin            9890\n",
       "Name: Product, dtype: int64"
      ]
     },
     "execution_count": 39,
     "metadata": {},
     "output_type": "execute_result"
    }
   ],
   "source": [
    "Sales_Data.groupby('City').count()['Product'].sort_values(ascending=False)"
   ]
  },
  {
   "cell_type": "markdown",
   "id": "df0fdf00",
   "metadata": {},
   "source": [
    "### Q3.What time should we display advertisements to maximize the likelihood of customer's buying product?"
   ]
  },
  {
   "cell_type": "code",
   "execution_count": 40,
   "id": "d3f4ac1c",
   "metadata": {},
   "outputs": [
    {
     "data": {
      "text/html": [
       "<div>\n",
       "<style scoped>\n",
       "    .dataframe tbody tr th:only-of-type {\n",
       "        vertical-align: middle;\n",
       "    }\n",
       "\n",
       "    .dataframe tbody tr th {\n",
       "        vertical-align: top;\n",
       "    }\n",
       "\n",
       "    .dataframe thead th {\n",
       "        text-align: right;\n",
       "    }\n",
       "</style>\n",
       "<table border=\"1\" class=\"dataframe\">\n",
       "  <thead>\n",
       "    <tr style=\"text-align: right;\">\n",
       "      <th></th>\n",
       "      <th>Order_Id</th>\n",
       "      <th>Product</th>\n",
       "      <th>Quantity_Ordered</th>\n",
       "      <th>Price_Each</th>\n",
       "      <th>Order_Date</th>\n",
       "      <th>Purchase_Address</th>\n",
       "      <th>Order_Month</th>\n",
       "      <th>Sales</th>\n",
       "      <th>City</th>\n",
       "    </tr>\n",
       "  </thead>\n",
       "  <tbody>\n",
       "    <tr>\n",
       "      <th>0</th>\n",
       "      <td>141234</td>\n",
       "      <td>iPhone</td>\n",
       "      <td>1</td>\n",
       "      <td>700.00</td>\n",
       "      <td>2019-01-22 21:25:00</td>\n",
       "      <td>944 Walnut St, Boston, MA 02215</td>\n",
       "      <td>1</td>\n",
       "      <td>700.00</td>\n",
       "      <td>Boston</td>\n",
       "    </tr>\n",
       "    <tr>\n",
       "      <th>1</th>\n",
       "      <td>141235</td>\n",
       "      <td>Lightning Charging Cable</td>\n",
       "      <td>1</td>\n",
       "      <td>14.95</td>\n",
       "      <td>2019-01-28 14:15:00</td>\n",
       "      <td>185 Maple St, Portland, OR 97035</td>\n",
       "      <td>1</td>\n",
       "      <td>14.95</td>\n",
       "      <td>Portland</td>\n",
       "    </tr>\n",
       "    <tr>\n",
       "      <th>2</th>\n",
       "      <td>141236</td>\n",
       "      <td>Wired Headphones</td>\n",
       "      <td>2</td>\n",
       "      <td>11.99</td>\n",
       "      <td>2019-01-17 13:33:00</td>\n",
       "      <td>538 Adams St, San Francisco, CA 94016</td>\n",
       "      <td>1</td>\n",
       "      <td>23.98</td>\n",
       "      <td>San Francisco</td>\n",
       "    </tr>\n",
       "    <tr>\n",
       "      <th>3</th>\n",
       "      <td>141237</td>\n",
       "      <td>27in FHD Monitor</td>\n",
       "      <td>1</td>\n",
       "      <td>149.99</td>\n",
       "      <td>2019-01-05 20:33:00</td>\n",
       "      <td>738 10th St, Los Angeles, CA 90001</td>\n",
       "      <td>1</td>\n",
       "      <td>149.99</td>\n",
       "      <td>Los Angeles</td>\n",
       "    </tr>\n",
       "    <tr>\n",
       "      <th>4</th>\n",
       "      <td>141238</td>\n",
       "      <td>Wired Headphones</td>\n",
       "      <td>1</td>\n",
       "      <td>11.99</td>\n",
       "      <td>2019-01-25 11:59:00</td>\n",
       "      <td>387 10th St, Austin, TX 73301</td>\n",
       "      <td>1</td>\n",
       "      <td>11.99</td>\n",
       "      <td>Austin</td>\n",
       "    </tr>\n",
       "  </tbody>\n",
       "</table>\n",
       "</div>"
      ],
      "text/plain": [
       "   Order_Id                   Product  Quantity_Ordered  Price_Each  \\\n",
       "0    141234                    iPhone                 1      700.00   \n",
       "1    141235  Lightning Charging Cable                 1       14.95   \n",
       "2    141236          Wired Headphones                 2       11.99   \n",
       "3    141237          27in FHD Monitor                 1      149.99   \n",
       "4    141238          Wired Headphones                 1       11.99   \n",
       "\n",
       "           Order_Date                       Purchase_Address  Order_Month  \\\n",
       "0 2019-01-22 21:25:00        944 Walnut St, Boston, MA 02215            1   \n",
       "1 2019-01-28 14:15:00       185 Maple St, Portland, OR 97035            1   \n",
       "2 2019-01-17 13:33:00  538 Adams St, San Francisco, CA 94016            1   \n",
       "3 2019-01-05 20:33:00     738 10th St, Los Angeles, CA 90001            1   \n",
       "4 2019-01-25 11:59:00          387 10th St, Austin, TX 73301            1   \n",
       "\n",
       "    Sales            City  \n",
       "0  700.00          Boston  \n",
       "1   14.95        Portland  \n",
       "2   23.98   San Francisco  \n",
       "3  149.99     Los Angeles  \n",
       "4   11.99          Austin  "
      ]
     },
     "execution_count": 40,
     "metadata": {},
     "output_type": "execute_result"
    }
   ],
   "source": [
    "Sales_Data.head()"
   ]
  },
  {
   "cell_type": "markdown",
   "id": "083882be",
   "metadata": {},
   "source": [
    "### Adding the Hour Column to the data set"
   ]
  },
  {
   "cell_type": "code",
   "execution_count": 41,
   "id": "b83d1bfe",
   "metadata": {},
   "outputs": [
    {
     "data": {
      "text/html": [
       "<div>\n",
       "<style scoped>\n",
       "    .dataframe tbody tr th:only-of-type {\n",
       "        vertical-align: middle;\n",
       "    }\n",
       "\n",
       "    .dataframe tbody tr th {\n",
       "        vertical-align: top;\n",
       "    }\n",
       "\n",
       "    .dataframe thead th {\n",
       "        text-align: right;\n",
       "    }\n",
       "</style>\n",
       "<table border=\"1\" class=\"dataframe\">\n",
       "  <thead>\n",
       "    <tr style=\"text-align: right;\">\n",
       "      <th></th>\n",
       "      <th>Order_Id</th>\n",
       "      <th>Product</th>\n",
       "      <th>Quantity_Ordered</th>\n",
       "      <th>Price_Each</th>\n",
       "      <th>Order_Date</th>\n",
       "      <th>Purchase_Address</th>\n",
       "      <th>Order_Month</th>\n",
       "      <th>Sales</th>\n",
       "      <th>City</th>\n",
       "      <th>Hour</th>\n",
       "      <th>Minute</th>\n",
       "    </tr>\n",
       "  </thead>\n",
       "  <tbody>\n",
       "    <tr>\n",
       "      <th>0</th>\n",
       "      <td>141234</td>\n",
       "      <td>iPhone</td>\n",
       "      <td>1</td>\n",
       "      <td>700.00</td>\n",
       "      <td>2019-01-22 21:25:00</td>\n",
       "      <td>944 Walnut St, Boston, MA 02215</td>\n",
       "      <td>1</td>\n",
       "      <td>700.00</td>\n",
       "      <td>Boston</td>\n",
       "      <td>21</td>\n",
       "      <td>25</td>\n",
       "    </tr>\n",
       "    <tr>\n",
       "      <th>1</th>\n",
       "      <td>141235</td>\n",
       "      <td>Lightning Charging Cable</td>\n",
       "      <td>1</td>\n",
       "      <td>14.95</td>\n",
       "      <td>2019-01-28 14:15:00</td>\n",
       "      <td>185 Maple St, Portland, OR 97035</td>\n",
       "      <td>1</td>\n",
       "      <td>14.95</td>\n",
       "      <td>Portland</td>\n",
       "      <td>14</td>\n",
       "      <td>15</td>\n",
       "    </tr>\n",
       "    <tr>\n",
       "      <th>2</th>\n",
       "      <td>141236</td>\n",
       "      <td>Wired Headphones</td>\n",
       "      <td>2</td>\n",
       "      <td>11.99</td>\n",
       "      <td>2019-01-17 13:33:00</td>\n",
       "      <td>538 Adams St, San Francisco, CA 94016</td>\n",
       "      <td>1</td>\n",
       "      <td>23.98</td>\n",
       "      <td>San Francisco</td>\n",
       "      <td>13</td>\n",
       "      <td>33</td>\n",
       "    </tr>\n",
       "    <tr>\n",
       "      <th>3</th>\n",
       "      <td>141237</td>\n",
       "      <td>27in FHD Monitor</td>\n",
       "      <td>1</td>\n",
       "      <td>149.99</td>\n",
       "      <td>2019-01-05 20:33:00</td>\n",
       "      <td>738 10th St, Los Angeles, CA 90001</td>\n",
       "      <td>1</td>\n",
       "      <td>149.99</td>\n",
       "      <td>Los Angeles</td>\n",
       "      <td>20</td>\n",
       "      <td>33</td>\n",
       "    </tr>\n",
       "    <tr>\n",
       "      <th>4</th>\n",
       "      <td>141238</td>\n",
       "      <td>Wired Headphones</td>\n",
       "      <td>1</td>\n",
       "      <td>11.99</td>\n",
       "      <td>2019-01-25 11:59:00</td>\n",
       "      <td>387 10th St, Austin, TX 73301</td>\n",
       "      <td>1</td>\n",
       "      <td>11.99</td>\n",
       "      <td>Austin</td>\n",
       "      <td>11</td>\n",
       "      <td>59</td>\n",
       "    </tr>\n",
       "  </tbody>\n",
       "</table>\n",
       "</div>"
      ],
      "text/plain": [
       "   Order_Id                   Product  Quantity_Ordered  Price_Each  \\\n",
       "0    141234                    iPhone                 1      700.00   \n",
       "1    141235  Lightning Charging Cable                 1       14.95   \n",
       "2    141236          Wired Headphones                 2       11.99   \n",
       "3    141237          27in FHD Monitor                 1      149.99   \n",
       "4    141238          Wired Headphones                 1       11.99   \n",
       "\n",
       "           Order_Date                       Purchase_Address  Order_Month  \\\n",
       "0 2019-01-22 21:25:00        944 Walnut St, Boston, MA 02215            1   \n",
       "1 2019-01-28 14:15:00       185 Maple St, Portland, OR 97035            1   \n",
       "2 2019-01-17 13:33:00  538 Adams St, San Francisco, CA 94016            1   \n",
       "3 2019-01-05 20:33:00     738 10th St, Los Angeles, CA 90001            1   \n",
       "4 2019-01-25 11:59:00          387 10th St, Austin, TX 73301            1   \n",
       "\n",
       "    Sales            City  Hour  Minute  \n",
       "0  700.00          Boston    21      25  \n",
       "1   14.95        Portland    14      15  \n",
       "2   23.98   San Francisco    13      33  \n",
       "3  149.99     Los Angeles    20      33  \n",
       "4   11.99          Austin    11      59  "
      ]
     },
     "execution_count": 41,
     "metadata": {},
     "output_type": "execute_result"
    }
   ],
   "source": [
    "Sales_Data['Hour'] = Sales_Data.Order_Date.dt.hour\n",
    "Sales_Data['Minute'] = Sales_Data.Order_Date.dt.minute\n",
    "Sales_Data.head()"
   ]
  },
  {
   "cell_type": "code",
   "execution_count": 42,
   "id": "d4a35160",
   "metadata": {},
   "outputs": [
    {
     "data": {
      "text/plain": [
       "Hour\n",
       "0      3902\n",
       "1      2347\n",
       "2      1242\n",
       "3       830\n",
       "4       852\n",
       "5      1320\n",
       "6      2481\n",
       "7      4002\n",
       "8      6252\n",
       "9      8740\n",
       "10    10929\n",
       "11    12392\n",
       "12    12573\n",
       "13    12115\n",
       "14    10965\n",
       "15    10159\n",
       "16    10359\n",
       "17    10884\n",
       "18    12263\n",
       "19    12886\n",
       "20    12218\n",
       "21    10905\n",
       "22     8808\n",
       "23     6262\n",
       "Name: Product, dtype: int64"
      ]
     },
     "execution_count": 42,
     "metadata": {},
     "output_type": "execute_result"
    }
   ],
   "source": [
    "Sales_Data.groupby(['Hour']).count()['Product']"
   ]
  },
  {
   "cell_type": "code",
   "execution_count": 62,
   "id": "da2600a4",
   "metadata": {},
   "outputs": [
    {
     "data": {
      "text/plain": [
       "Text(0, 0.5, 'Products Sold')"
      ]
     },
     "execution_count": 62,
     "metadata": {},
     "output_type": "execute_result"
    },
    {
     "data": {
      "image/png": "[encoded data removed]",
      "text/plain": [
       "<Figure size 640x480 with 1 Axes>"
      ]
     },
     "metadata": {},
     "output_type": "display_data"
    }
   ],
   "source": [
    "Sales_Data.groupby(['Hour']).count()['Product'].sort_values(ascending=False).plot(kind = 'bar')\n",
    "plt.title('Hour of the time Products Sold the Most')\n",
    "plt.xlabel('Hour')\n",
    "plt.ylabel('Products Sold')"
   ]
  },
  {
   "cell_type": "markdown",
   "id": "d9417af2",
   "metadata": {},
   "source": [
    "### Q4. What Products are most often sold together?"
   ]
  },
  {
   "cell_type": "code",
   "execution_count": 44,
   "id": "393877d0",
   "metadata": {},
   "outputs": [
    {
     "data": {
      "text/html": [
       "<div>\n",
       "<style scoped>\n",
       "    .dataframe tbody tr th:only-of-type {\n",
       "        vertical-align: middle;\n",
       "    }\n",
       "\n",
       "    .dataframe tbody tr th {\n",
       "        vertical-align: top;\n",
       "    }\n",
       "\n",
       "    .dataframe thead th {\n",
       "        text-align: right;\n",
       "    }\n",
       "</style>\n",
       "<table border=\"1\" class=\"dataframe\">\n",
       "  <thead>\n",
       "    <tr style=\"text-align: right;\">\n",
       "      <th></th>\n",
       "      <th>Order_Id</th>\n",
       "      <th>Product</th>\n",
       "      <th>Quantity_Ordered</th>\n",
       "      <th>Price_Each</th>\n",
       "      <th>Order_Date</th>\n",
       "      <th>Purchase_Address</th>\n",
       "      <th>Order_Month</th>\n",
       "      <th>Sales</th>\n",
       "      <th>City</th>\n",
       "      <th>Hour</th>\n",
       "      <th>Minute</th>\n",
       "    </tr>\n",
       "  </thead>\n",
       "  <tbody>\n",
       "    <tr>\n",
       "      <th>0</th>\n",
       "      <td>141234</td>\n",
       "      <td>iPhone</td>\n",
       "      <td>1</td>\n",
       "      <td>700.00</td>\n",
       "      <td>2019-01-22 21:25:00</td>\n",
       "      <td>944 Walnut St, Boston, MA 02215</td>\n",
       "      <td>1</td>\n",
       "      <td>700.00</td>\n",
       "      <td>Boston</td>\n",
       "      <td>21</td>\n",
       "      <td>25</td>\n",
       "    </tr>\n",
       "    <tr>\n",
       "      <th>1</th>\n",
       "      <td>141235</td>\n",
       "      <td>Lightning Charging Cable</td>\n",
       "      <td>1</td>\n",
       "      <td>14.95</td>\n",
       "      <td>2019-01-28 14:15:00</td>\n",
       "      <td>185 Maple St, Portland, OR 97035</td>\n",
       "      <td>1</td>\n",
       "      <td>14.95</td>\n",
       "      <td>Portland</td>\n",
       "      <td>14</td>\n",
       "      <td>15</td>\n",
       "    </tr>\n",
       "    <tr>\n",
       "      <th>2</th>\n",
       "      <td>141236</td>\n",
       "      <td>Wired Headphones</td>\n",
       "      <td>2</td>\n",
       "      <td>11.99</td>\n",
       "      <td>2019-01-17 13:33:00</td>\n",
       "      <td>538 Adams St, San Francisco, CA 94016</td>\n",
       "      <td>1</td>\n",
       "      <td>23.98</td>\n",
       "      <td>San Francisco</td>\n",
       "      <td>13</td>\n",
       "      <td>33</td>\n",
       "    </tr>\n",
       "    <tr>\n",
       "      <th>3</th>\n",
       "      <td>141237</td>\n",
       "      <td>27in FHD Monitor</td>\n",
       "      <td>1</td>\n",
       "      <td>149.99</td>\n",
       "      <td>2019-01-05 20:33:00</td>\n",
       "      <td>738 10th St, Los Angeles, CA 90001</td>\n",
       "      <td>1</td>\n",
       "      <td>149.99</td>\n",
       "      <td>Los Angeles</td>\n",
       "      <td>20</td>\n",
       "      <td>33</td>\n",
       "    </tr>\n",
       "    <tr>\n",
       "      <th>4</th>\n",
       "      <td>141238</td>\n",
       "      <td>Wired Headphones</td>\n",
       "      <td>1</td>\n",
       "      <td>11.99</td>\n",
       "      <td>2019-01-25 11:59:00</td>\n",
       "      <td>387 10th St, Austin, TX 73301</td>\n",
       "      <td>1</td>\n",
       "      <td>11.99</td>\n",
       "      <td>Austin</td>\n",
       "      <td>11</td>\n",
       "      <td>59</td>\n",
       "    </tr>\n",
       "  </tbody>\n",
       "</table>\n",
       "</div>"
      ],
      "text/plain": [
       "   Order_Id                   Product  Quantity_Ordered  Price_Each  \\\n",
       "0    141234                    iPhone                 1      700.00   \n",
       "1    141235  Lightning Charging Cable                 1       14.95   \n",
       "2    141236          Wired Headphones                 2       11.99   \n",
       "3    141237          27in FHD Monitor                 1      149.99   \n",
       "4    141238          Wired Headphones                 1       11.99   \n",
       "\n",
       "           Order_Date                       Purchase_Address  Order_Month  \\\n",
       "0 2019-01-22 21:25:00        944 Walnut St, Boston, MA 02215            1   \n",
       "1 2019-01-28 14:15:00       185 Maple St, Portland, OR 97035            1   \n",
       "2 2019-01-17 13:33:00  538 Adams St, San Francisco, CA 94016            1   \n",
       "3 2019-01-05 20:33:00     738 10th St, Los Angeles, CA 90001            1   \n",
       "4 2019-01-25 11:59:00          387 10th St, Austin, TX 73301            1   \n",
       "\n",
       "    Sales            City  Hour  Minute  \n",
       "0  700.00          Boston    21      25  \n",
       "1   14.95        Portland    14      15  \n",
       "2   23.98   San Francisco    13      33  \n",
       "3  149.99     Los Angeles    20      33  \n",
       "4   11.99          Austin    11      59  "
      ]
     },
     "execution_count": 44,
     "metadata": {},
     "output_type": "execute_result"
    }
   ],
   "source": [
    "Sales_Data.head()"
   ]
  },
  {
   "cell_type": "code",
   "execution_count": 45,
   "id": "12248b1b",
   "metadata": {},
   "outputs": [
    {
     "data": {
      "text/html": [
       "<div>\n",
       "<style scoped>\n",
       "    .dataframe tbody tr th:only-of-type {\n",
       "        vertical-align: middle;\n",
       "    }\n",
       "\n",
       "    .dataframe tbody tr th {\n",
       "        vertical-align: top;\n",
       "    }\n",
       "\n",
       "    .dataframe thead th {\n",
       "        text-align: right;\n",
       "    }\n",
       "</style>\n",
       "<table border=\"1\" class=\"dataframe\">\n",
       "  <thead>\n",
       "    <tr style=\"text-align: right;\">\n",
       "      <th></th>\n",
       "      <th>Order_Id</th>\n",
       "      <th>Product</th>\n",
       "      <th>Quantity_Ordered</th>\n",
       "      <th>Price_Each</th>\n",
       "      <th>Order_Date</th>\n",
       "      <th>Purchase_Address</th>\n",
       "      <th>Order_Month</th>\n",
       "      <th>Sales</th>\n",
       "      <th>City</th>\n",
       "      <th>Hour</th>\n",
       "      <th>Minute</th>\n",
       "    </tr>\n",
       "  </thead>\n",
       "  <tbody>\n",
       "    <tr>\n",
       "      <th>41</th>\n",
       "      <td>141275</td>\n",
       "      <td>USB-C Charging Cable</td>\n",
       "      <td>1</td>\n",
       "      <td>11.95</td>\n",
       "      <td>2019-01-07 16:06:00</td>\n",
       "      <td>610 Walnut St, Austin, TX 73301</td>\n",
       "      <td>1</td>\n",
       "      <td>11.95</td>\n",
       "      <td>Austin</td>\n",
       "      <td>16</td>\n",
       "      <td>6</td>\n",
       "    </tr>\n",
       "    <tr>\n",
       "      <th>42</th>\n",
       "      <td>141275</td>\n",
       "      <td>Wired Headphones</td>\n",
       "      <td>1</td>\n",
       "      <td>11.99</td>\n",
       "      <td>2019-01-07 16:06:00</td>\n",
       "      <td>610 Walnut St, Austin, TX 73301</td>\n",
       "      <td>1</td>\n",
       "      <td>11.99</td>\n",
       "      <td>Austin</td>\n",
       "      <td>16</td>\n",
       "      <td>6</td>\n",
       "    </tr>\n",
       "    <tr>\n",
       "      <th>57</th>\n",
       "      <td>141290</td>\n",
       "      <td>Apple Airpods Headphones</td>\n",
       "      <td>1</td>\n",
       "      <td>150.00</td>\n",
       "      <td>2019-01-02 08:25:00</td>\n",
       "      <td>4 1st St, Los Angeles, CA 90001</td>\n",
       "      <td>1</td>\n",
       "      <td>150.00</td>\n",
       "      <td>Los Angeles</td>\n",
       "      <td>8</td>\n",
       "      <td>25</td>\n",
       "    </tr>\n",
       "    <tr>\n",
       "      <th>58</th>\n",
       "      <td>141290</td>\n",
       "      <td>AA Batteries (4-pack)</td>\n",
       "      <td>3</td>\n",
       "      <td>3.84</td>\n",
       "      <td>2019-01-02 08:25:00</td>\n",
       "      <td>4 1st St, Los Angeles, CA 90001</td>\n",
       "      <td>1</td>\n",
       "      <td>11.52</td>\n",
       "      <td>Los Angeles</td>\n",
       "      <td>8</td>\n",
       "      <td>25</td>\n",
       "    </tr>\n",
       "    <tr>\n",
       "      <th>133</th>\n",
       "      <td>141365</td>\n",
       "      <td>Vareebadd Phone</td>\n",
       "      <td>1</td>\n",
       "      <td>400.00</td>\n",
       "      <td>2019-01-10 11:19:00</td>\n",
       "      <td>20 Dogwood St, New York City, NY 10001</td>\n",
       "      <td>1</td>\n",
       "      <td>400.00</td>\n",
       "      <td>New York City</td>\n",
       "      <td>11</td>\n",
       "      <td>19</td>\n",
       "    </tr>\n",
       "    <tr>\n",
       "      <th>...</th>\n",
       "      <td>...</td>\n",
       "      <td>...</td>\n",
       "      <td>...</td>\n",
       "      <td>...</td>\n",
       "      <td>...</td>\n",
       "      <td>...</td>\n",
       "      <td>...</td>\n",
       "      <td>...</td>\n",
       "      <td>...</td>\n",
       "      <td>...</td>\n",
       "      <td>...</td>\n",
       "    </tr>\n",
       "    <tr>\n",
       "      <th>186761</th>\n",
       "      <td>319584</td>\n",
       "      <td>Wired Headphones</td>\n",
       "      <td>1</td>\n",
       "      <td>11.99</td>\n",
       "      <td>2019-12-11 00:30:00</td>\n",
       "      <td>537 Sunset St, Portland, OR 97035</td>\n",
       "      <td>12</td>\n",
       "      <td>11.99</td>\n",
       "      <td>Portland</td>\n",
       "      <td>0</td>\n",
       "      <td>30</td>\n",
       "    </tr>\n",
       "    <tr>\n",
       "      <th>186773</th>\n",
       "      <td>319596</td>\n",
       "      <td>iPhone</td>\n",
       "      <td>1</td>\n",
       "      <td>700.00</td>\n",
       "      <td>2019-12-01 08:44:00</td>\n",
       "      <td>436 14th St, New York City, NY 10001</td>\n",
       "      <td>12</td>\n",
       "      <td>700.00</td>\n",
       "      <td>New York City</td>\n",
       "      <td>8</td>\n",
       "      <td>44</td>\n",
       "    </tr>\n",
       "    <tr>\n",
       "      <th>186774</th>\n",
       "      <td>319596</td>\n",
       "      <td>Lightning Charging Cable</td>\n",
       "      <td>1</td>\n",
       "      <td>14.95</td>\n",
       "      <td>2019-12-01 08:44:00</td>\n",
       "      <td>436 14th St, New York City, NY 10001</td>\n",
       "      <td>12</td>\n",
       "      <td>14.95</td>\n",
       "      <td>New York City</td>\n",
       "      <td>8</td>\n",
       "      <td>44</td>\n",
       "    </tr>\n",
       "    <tr>\n",
       "      <th>186809</th>\n",
       "      <td>319631</td>\n",
       "      <td>34in Ultrawide Monitor</td>\n",
       "      <td>1</td>\n",
       "      <td>379.99</td>\n",
       "      <td>2019-12-17 22:35:00</td>\n",
       "      <td>363 Highland St, Austin, TX 73301</td>\n",
       "      <td>12</td>\n",
       "      <td>379.99</td>\n",
       "      <td>Austin</td>\n",
       "      <td>22</td>\n",
       "      <td>35</td>\n",
       "    </tr>\n",
       "    <tr>\n",
       "      <th>186810</th>\n",
       "      <td>319631</td>\n",
       "      <td>Lightning Charging Cable</td>\n",
       "      <td>1</td>\n",
       "      <td>14.95</td>\n",
       "      <td>2019-12-17 22:35:00</td>\n",
       "      <td>363 Highland St, Austin, TX 73301</td>\n",
       "      <td>12</td>\n",
       "      <td>14.95</td>\n",
       "      <td>Austin</td>\n",
       "      <td>22</td>\n",
       "      <td>35</td>\n",
       "    </tr>\n",
       "  </tbody>\n",
       "</table>\n",
       "<p>14128 rows × 11 columns</p>\n",
       "</div>"
      ],
      "text/plain": [
       "        Order_Id                   Product  Quantity_Ordered  Price_Each  \\\n",
       "41        141275      USB-C Charging Cable                 1       11.95   \n",
       "42        141275          Wired Headphones                 1       11.99   \n",
       "57        141290  Apple Airpods Headphones                 1      150.00   \n",
       "58        141290     AA Batteries (4-pack)                 3        3.84   \n",
       "133       141365           Vareebadd Phone                 1      400.00   \n",
       "...          ...                       ...               ...         ...   \n",
       "186761    319584          Wired Headphones                 1       11.99   \n",
       "186773    319596                    iPhone                 1      700.00   \n",
       "186774    319596  Lightning Charging Cable                 1       14.95   \n",
       "186809    319631    34in Ultrawide Monitor                 1      379.99   \n",
       "186810    319631  Lightning Charging Cable                 1       14.95   \n",
       "\n",
       "                Order_Date                        Purchase_Address  \\\n",
       "41     2019-01-07 16:06:00         610 Walnut St, Austin, TX 73301   \n",
       "42     2019-01-07 16:06:00         610 Walnut St, Austin, TX 73301   \n",
       "57     2019-01-02 08:25:00         4 1st St, Los Angeles, CA 90001   \n",
       "58     2019-01-02 08:25:00         4 1st St, Los Angeles, CA 90001   \n",
       "133    2019-01-10 11:19:00  20 Dogwood St, New York City, NY 10001   \n",
       "...                    ...                                     ...   \n",
       "186761 2019-12-11 00:30:00       537 Sunset St, Portland, OR 97035   \n",
       "186773 2019-12-01 08:44:00    436 14th St, New York City, NY 10001   \n",
       "186774 2019-12-01 08:44:00    436 14th St, New York City, NY 10001   \n",
       "186809 2019-12-17 22:35:00       363 Highland St, Austin, TX 73301   \n",
       "186810 2019-12-17 22:35:00       363 Highland St, Austin, TX 73301   \n",
       "\n",
       "        Order_Month   Sales            City  Hour  Minute  \n",
       "41                1   11.95          Austin    16       6  \n",
       "42                1   11.99          Austin    16       6  \n",
       "57                1  150.00     Los Angeles     8      25  \n",
       "58                1   11.52     Los Angeles     8      25  \n",
       "133               1  400.00   New York City    11      19  \n",
       "...             ...     ...             ...   ...     ...  \n",
       "186761           12   11.99        Portland     0      30  \n",
       "186773           12  700.00   New York City     8      44  \n",
       "186774           12   14.95   New York City     8      44  \n",
       "186809           12  379.99          Austin    22      35  \n",
       "186810           12   14.95          Austin    22      35  \n",
       "\n",
       "[14128 rows x 11 columns]"
      ]
     },
     "execution_count": 45,
     "metadata": {},
     "output_type": "execute_result"
    }
   ],
   "source": [
    "New_Sales_data = Sales_Data[Sales_Data['Order_Id'].duplicated(keep=False)]\n",
    "New_Sales_data"
   ]
  },
  {
   "cell_type": "code",
   "execution_count": 46,
   "id": "fc423f8b",
   "metadata": {},
   "outputs": [
    {
     "data": {
      "text/plain": [
       "(14128, 11)"
      ]
     },
     "execution_count": 46,
     "metadata": {},
     "output_type": "execute_result"
    }
   ],
   "source": [
    "New_Sales_data.shape\n"
   ]
  },
  {
   "cell_type": "code",
   "execution_count": 47,
   "id": "4327b298",
   "metadata": {},
   "outputs": [
    {
     "data": {
      "text/plain": [
       "2    6526\n",
       "3     337\n",
       "4      15\n",
       "5       1\n",
       "Name: Product, dtype: int64"
      ]
     },
     "execution_count": 47,
     "metadata": {},
     "output_type": "execute_result"
    }
   ],
   "source": [
    "New_Sales_data.groupby('Order_Id').count()['Product'].value_counts()"
   ]
  },
  {
   "cell_type": "code",
   "execution_count": 48,
   "id": "c1f25a9e",
   "metadata": {},
   "outputs": [
    {
     "name": "stderr",
     "output_type": "stream",
     "text": [
      "C:\\Users\\Jeffrey\\AppData\\Local\\Temp\\ipykernel_21536\\3156928017.py:1: SettingWithCopyWarning: \n",
      "A value is trying to be set on a copy of a slice from a DataFrame.\n",
      "Try using .loc[row_indexer,col_indexer] = value instead\n",
      "\n",
      "See the caveats in the documentation: https://pandas.pydata.org/pandas-docs/stable/user_guide/indexing.html#returning-a-view-versus-a-copy\n",
      "  New_Sales_data['Grouped'] = New_Sales_data.groupby('Order_Id')['Product'].transform(lambda x: ', '.join(x))\n"
     ]
    },
    {
     "data": {
      "text/html": [
       "<div>\n",
       "<style scoped>\n",
       "    .dataframe tbody tr th:only-of-type {\n",
       "        vertical-align: middle;\n",
       "    }\n",
       "\n",
       "    .dataframe tbody tr th {\n",
       "        vertical-align: top;\n",
       "    }\n",
       "\n",
       "    .dataframe thead th {\n",
       "        text-align: right;\n",
       "    }\n",
       "</style>\n",
       "<table border=\"1\" class=\"dataframe\">\n",
       "  <thead>\n",
       "    <tr style=\"text-align: right;\">\n",
       "      <th></th>\n",
       "      <th>Order_Id</th>\n",
       "      <th>Product</th>\n",
       "      <th>Quantity_Ordered</th>\n",
       "      <th>Price_Each</th>\n",
       "      <th>Order_Date</th>\n",
       "      <th>Purchase_Address</th>\n",
       "      <th>Order_Month</th>\n",
       "      <th>Sales</th>\n",
       "      <th>City</th>\n",
       "      <th>Hour</th>\n",
       "      <th>Minute</th>\n",
       "      <th>Grouped</th>\n",
       "    </tr>\n",
       "  </thead>\n",
       "  <tbody>\n",
       "    <tr>\n",
       "      <th>41</th>\n",
       "      <td>141275</td>\n",
       "      <td>USB-C Charging Cable</td>\n",
       "      <td>1</td>\n",
       "      <td>11.95</td>\n",
       "      <td>2019-01-07 16:06:00</td>\n",
       "      <td>610 Walnut St, Austin, TX 73301</td>\n",
       "      <td>1</td>\n",
       "      <td>11.95</td>\n",
       "      <td>Austin</td>\n",
       "      <td>16</td>\n",
       "      <td>6</td>\n",
       "      <td>USB-C Charging Cable, Wired Headphones</td>\n",
       "    </tr>\n",
       "    <tr>\n",
       "      <th>42</th>\n",
       "      <td>141275</td>\n",
       "      <td>Wired Headphones</td>\n",
       "      <td>1</td>\n",
       "      <td>11.99</td>\n",
       "      <td>2019-01-07 16:06:00</td>\n",
       "      <td>610 Walnut St, Austin, TX 73301</td>\n",
       "      <td>1</td>\n",
       "      <td>11.99</td>\n",
       "      <td>Austin</td>\n",
       "      <td>16</td>\n",
       "      <td>6</td>\n",
       "      <td>USB-C Charging Cable, Wired Headphones</td>\n",
       "    </tr>\n",
       "    <tr>\n",
       "      <th>57</th>\n",
       "      <td>141290</td>\n",
       "      <td>Apple Airpods Headphones</td>\n",
       "      <td>1</td>\n",
       "      <td>150.00</td>\n",
       "      <td>2019-01-02 08:25:00</td>\n",
       "      <td>4 1st St, Los Angeles, CA 90001</td>\n",
       "      <td>1</td>\n",
       "      <td>150.00</td>\n",
       "      <td>Los Angeles</td>\n",
       "      <td>8</td>\n",
       "      <td>25</td>\n",
       "      <td>Apple Airpods Headphones, AA Batteries (4-pack)</td>\n",
       "    </tr>\n",
       "    <tr>\n",
       "      <th>58</th>\n",
       "      <td>141290</td>\n",
       "      <td>AA Batteries (4-pack)</td>\n",
       "      <td>3</td>\n",
       "      <td>3.84</td>\n",
       "      <td>2019-01-02 08:25:00</td>\n",
       "      <td>4 1st St, Los Angeles, CA 90001</td>\n",
       "      <td>1</td>\n",
       "      <td>11.52</td>\n",
       "      <td>Los Angeles</td>\n",
       "      <td>8</td>\n",
       "      <td>25</td>\n",
       "      <td>Apple Airpods Headphones, AA Batteries (4-pack)</td>\n",
       "    </tr>\n",
       "    <tr>\n",
       "      <th>133</th>\n",
       "      <td>141365</td>\n",
       "      <td>Vareebadd Phone</td>\n",
       "      <td>1</td>\n",
       "      <td>400.00</td>\n",
       "      <td>2019-01-10 11:19:00</td>\n",
       "      <td>20 Dogwood St, New York City, NY 10001</td>\n",
       "      <td>1</td>\n",
       "      <td>400.00</td>\n",
       "      <td>New York City</td>\n",
       "      <td>11</td>\n",
       "      <td>19</td>\n",
       "      <td>Vareebadd Phone, Wired Headphones</td>\n",
       "    </tr>\n",
       "    <tr>\n",
       "      <th>...</th>\n",
       "      <td>...</td>\n",
       "      <td>...</td>\n",
       "      <td>...</td>\n",
       "      <td>...</td>\n",
       "      <td>...</td>\n",
       "      <td>...</td>\n",
       "      <td>...</td>\n",
       "      <td>...</td>\n",
       "      <td>...</td>\n",
       "      <td>...</td>\n",
       "      <td>...</td>\n",
       "      <td>...</td>\n",
       "    </tr>\n",
       "    <tr>\n",
       "      <th>186761</th>\n",
       "      <td>319584</td>\n",
       "      <td>Wired Headphones</td>\n",
       "      <td>1</td>\n",
       "      <td>11.99</td>\n",
       "      <td>2019-12-11 00:30:00</td>\n",
       "      <td>537 Sunset St, Portland, OR 97035</td>\n",
       "      <td>12</td>\n",
       "      <td>11.99</td>\n",
       "      <td>Portland</td>\n",
       "      <td>0</td>\n",
       "      <td>30</td>\n",
       "      <td>iPhone, Wired Headphones</td>\n",
       "    </tr>\n",
       "    <tr>\n",
       "      <th>186773</th>\n",
       "      <td>319596</td>\n",
       "      <td>iPhone</td>\n",
       "      <td>1</td>\n",
       "      <td>700.00</td>\n",
       "      <td>2019-12-01 08:44:00</td>\n",
       "      <td>436 14th St, New York City, NY 10001</td>\n",
       "      <td>12</td>\n",
       "      <td>700.00</td>\n",
       "      <td>New York City</td>\n",
       "      <td>8</td>\n",
       "      <td>44</td>\n",
       "      <td>iPhone, Lightning Charging Cable</td>\n",
       "    </tr>\n",
       "    <tr>\n",
       "      <th>186774</th>\n",
       "      <td>319596</td>\n",
       "      <td>Lightning Charging Cable</td>\n",
       "      <td>1</td>\n",
       "      <td>14.95</td>\n",
       "      <td>2019-12-01 08:44:00</td>\n",
       "      <td>436 14th St, New York City, NY 10001</td>\n",
       "      <td>12</td>\n",
       "      <td>14.95</td>\n",
       "      <td>New York City</td>\n",
       "      <td>8</td>\n",
       "      <td>44</td>\n",
       "      <td>iPhone, Lightning Charging Cable</td>\n",
       "    </tr>\n",
       "    <tr>\n",
       "      <th>186809</th>\n",
       "      <td>319631</td>\n",
       "      <td>34in Ultrawide Monitor</td>\n",
       "      <td>1</td>\n",
       "      <td>379.99</td>\n",
       "      <td>2019-12-17 22:35:00</td>\n",
       "      <td>363 Highland St, Austin, TX 73301</td>\n",
       "      <td>12</td>\n",
       "      <td>379.99</td>\n",
       "      <td>Austin</td>\n",
       "      <td>22</td>\n",
       "      <td>35</td>\n",
       "      <td>34in Ultrawide Monitor, Lightning Charging Cable</td>\n",
       "    </tr>\n",
       "    <tr>\n",
       "      <th>186810</th>\n",
       "      <td>319631</td>\n",
       "      <td>Lightning Charging Cable</td>\n",
       "      <td>1</td>\n",
       "      <td>14.95</td>\n",
       "      <td>2019-12-17 22:35:00</td>\n",
       "      <td>363 Highland St, Austin, TX 73301</td>\n",
       "      <td>12</td>\n",
       "      <td>14.95</td>\n",
       "      <td>Austin</td>\n",
       "      <td>22</td>\n",
       "      <td>35</td>\n",
       "      <td>34in Ultrawide Monitor, Lightning Charging Cable</td>\n",
       "    </tr>\n",
       "  </tbody>\n",
       "</table>\n",
       "<p>14128 rows × 12 columns</p>\n",
       "</div>"
      ],
      "text/plain": [
       "        Order_Id                   Product  Quantity_Ordered  Price_Each  \\\n",
       "41        141275      USB-C Charging Cable                 1       11.95   \n",
       "42        141275          Wired Headphones                 1       11.99   \n",
       "57        141290  Apple Airpods Headphones                 1      150.00   \n",
       "58        141290     AA Batteries (4-pack)                 3        3.84   \n",
       "133       141365           Vareebadd Phone                 1      400.00   \n",
       "...          ...                       ...               ...         ...   \n",
       "186761    319584          Wired Headphones                 1       11.99   \n",
       "186773    319596                    iPhone                 1      700.00   \n",
       "186774    319596  Lightning Charging Cable                 1       14.95   \n",
       "186809    319631    34in Ultrawide Monitor                 1      379.99   \n",
       "186810    319631  Lightning Charging Cable                 1       14.95   \n",
       "\n",
       "                Order_Date                        Purchase_Address  \\\n",
       "41     2019-01-07 16:06:00         610 Walnut St, Austin, TX 73301   \n",
       "42     2019-01-07 16:06:00         610 Walnut St, Austin, TX 73301   \n",
       "57     2019-01-02 08:25:00         4 1st St, Los Angeles, CA 90001   \n",
       "58     2019-01-02 08:25:00         4 1st St, Los Angeles, CA 90001   \n",
       "133    2019-01-10 11:19:00  20 Dogwood St, New York City, NY 10001   \n",
       "...                    ...                                     ...   \n",
       "186761 2019-12-11 00:30:00       537 Sunset St, Portland, OR 97035   \n",
       "186773 2019-12-01 08:44:00    436 14th St, New York City, NY 10001   \n",
       "186774 2019-12-01 08:44:00    436 14th St, New York City, NY 10001   \n",
       "186809 2019-12-17 22:35:00       363 Highland St, Austin, TX 73301   \n",
       "186810 2019-12-17 22:35:00       363 Highland St, Austin, TX 73301   \n",
       "\n",
       "        Order_Month   Sales            City  Hour  Minute  \\\n",
       "41                1   11.95          Austin    16       6   \n",
       "42                1   11.99          Austin    16       6   \n",
       "57                1  150.00     Los Angeles     8      25   \n",
       "58                1   11.52     Los Angeles     8      25   \n",
       "133               1  400.00   New York City    11      19   \n",
       "...             ...     ...             ...   ...     ...   \n",
       "186761           12   11.99        Portland     0      30   \n",
       "186773           12  700.00   New York City     8      44   \n",
       "186774           12   14.95   New York City     8      44   \n",
       "186809           12  379.99          Austin    22      35   \n",
       "186810           12   14.95          Austin    22      35   \n",
       "\n",
       "                                                 Grouped  \n",
       "41                USB-C Charging Cable, Wired Headphones  \n",
       "42                USB-C Charging Cable, Wired Headphones  \n",
       "57       Apple Airpods Headphones, AA Batteries (4-pack)  \n",
       "58       Apple Airpods Headphones, AA Batteries (4-pack)  \n",
       "133                    Vareebadd Phone, Wired Headphones  \n",
       "...                                                  ...  \n",
       "186761                          iPhone, Wired Headphones  \n",
       "186773                  iPhone, Lightning Charging Cable  \n",
       "186774                  iPhone, Lightning Charging Cable  \n",
       "186809  34in Ultrawide Monitor, Lightning Charging Cable  \n",
       "186810  34in Ultrawide Monitor, Lightning Charging Cable  \n",
       "\n",
       "[14128 rows x 12 columns]"
      ]
     },
     "execution_count": 48,
     "metadata": {},
     "output_type": "execute_result"
    }
   ],
   "source": [
    "New_Sales_data['Grouped'] = New_Sales_data.groupby('Order_Id')['Product'].transform(lambda x: ', '.join(x))\n",
    "New_Sales_data"
   ]
  },
  {
   "cell_type": "code",
   "execution_count": 49,
   "id": "b0362a6f",
   "metadata": {},
   "outputs": [],
   "source": [
    "New_Sales_data = New_Sales_data[['Order_Id', 'Grouped']].drop_duplicates()"
   ]
  },
  {
   "cell_type": "code",
   "execution_count": 50,
   "id": "a6a86e18",
   "metadata": {},
   "outputs": [
    {
     "data": {
      "text/html": [
       "<div>\n",
       "<style scoped>\n",
       "    .dataframe tbody tr th:only-of-type {\n",
       "        vertical-align: middle;\n",
       "    }\n",
       "\n",
       "    .dataframe tbody tr th {\n",
       "        vertical-align: top;\n",
       "    }\n",
       "\n",
       "    .dataframe thead th {\n",
       "        text-align: right;\n",
       "    }\n",
       "</style>\n",
       "<table border=\"1\" class=\"dataframe\">\n",
       "  <thead>\n",
       "    <tr style=\"text-align: right;\">\n",
       "      <th></th>\n",
       "      <th>Order_Id</th>\n",
       "      <th>Grouped</th>\n",
       "    </tr>\n",
       "  </thead>\n",
       "  <tbody>\n",
       "    <tr>\n",
       "      <th>41</th>\n",
       "      <td>141275</td>\n",
       "      <td>USB-C Charging Cable, Wired Headphones</td>\n",
       "    </tr>\n",
       "    <tr>\n",
       "      <th>57</th>\n",
       "      <td>141290</td>\n",
       "      <td>Apple Airpods Headphones, AA Batteries (4-pack)</td>\n",
       "    </tr>\n",
       "    <tr>\n",
       "      <th>133</th>\n",
       "      <td>141365</td>\n",
       "      <td>Vareebadd Phone, Wired Headphones</td>\n",
       "    </tr>\n",
       "    <tr>\n",
       "      <th>153</th>\n",
       "      <td>141384</td>\n",
       "      <td>Google Phone, USB-C Charging Cable</td>\n",
       "    </tr>\n",
       "    <tr>\n",
       "      <th>220</th>\n",
       "      <td>141450</td>\n",
       "      <td>Google Phone, Bose SoundSport Headphones</td>\n",
       "    </tr>\n",
       "    <tr>\n",
       "      <th>...</th>\n",
       "      <td>...</td>\n",
       "      <td>...</td>\n",
       "    </tr>\n",
       "    <tr>\n",
       "      <th>186710</th>\n",
       "      <td>319536</td>\n",
       "      <td>Macbook Pro Laptop, Wired Headphones</td>\n",
       "    </tr>\n",
       "    <tr>\n",
       "      <th>186731</th>\n",
       "      <td>319556</td>\n",
       "      <td>Google Phone, Wired Headphones</td>\n",
       "    </tr>\n",
       "    <tr>\n",
       "      <th>186760</th>\n",
       "      <td>319584</td>\n",
       "      <td>iPhone, Wired Headphones</td>\n",
       "    </tr>\n",
       "    <tr>\n",
       "      <th>186773</th>\n",
       "      <td>319596</td>\n",
       "      <td>iPhone, Lightning Charging Cable</td>\n",
       "    </tr>\n",
       "    <tr>\n",
       "      <th>186809</th>\n",
       "      <td>319631</td>\n",
       "      <td>34in Ultrawide Monitor, Lightning Charging Cable</td>\n",
       "    </tr>\n",
       "  </tbody>\n",
       "</table>\n",
       "<p>6879 rows × 2 columns</p>\n",
       "</div>"
      ],
      "text/plain": [
       "        Order_Id                                           Grouped\n",
       "41        141275            USB-C Charging Cable, Wired Headphones\n",
       "57        141290   Apple Airpods Headphones, AA Batteries (4-pack)\n",
       "133       141365                 Vareebadd Phone, Wired Headphones\n",
       "153       141384                Google Phone, USB-C Charging Cable\n",
       "220       141450          Google Phone, Bose SoundSport Headphones\n",
       "...          ...                                               ...\n",
       "186710    319536              Macbook Pro Laptop, Wired Headphones\n",
       "186731    319556                    Google Phone, Wired Headphones\n",
       "186760    319584                          iPhone, Wired Headphones\n",
       "186773    319596                  iPhone, Lightning Charging Cable\n",
       "186809    319631  34in Ultrawide Monitor, Lightning Charging Cable\n",
       "\n",
       "[6879 rows x 2 columns]"
      ]
     },
     "execution_count": 50,
     "metadata": {},
     "output_type": "execute_result"
    }
   ],
   "source": [
    "New_Sales_data"
   ]
  },
  {
   "cell_type": "markdown",
   "id": "6dc14383",
   "metadata": {},
   "source": [
    "### For the Item that are sold together, number of products together - 2"
   ]
  },
  {
   "cell_type": "code",
   "execution_count": 52,
   "id": "ec998f28",
   "metadata": {},
   "outputs": [
    {
     "name": "stdout",
     "output_type": "stream",
     "text": [
      "('iPhone', 'Lightning Charging Cable') 1002\n",
      "('Google Phone', 'USB-C Charging Cable') 985\n",
      "('iPhone', 'Wired Headphones') 447\n",
      "('Google Phone', 'Wired Headphones') 413\n",
      "('Vareebadd Phone', 'USB-C Charging Cable') 361\n",
      "('iPhone', 'Apple Airpods Headphones') 360\n",
      "('Google Phone', 'Bose SoundSport Headphones') 220\n",
      "('USB-C Charging Cable', 'Wired Headphones') 159\n",
      "('Vareebadd Phone', 'Wired Headphones') 143\n",
      "('Lightning Charging Cable', 'Wired Headphones') 92\n"
     ]
    }
   ],
   "source": [
    "count = Counter()\n",
    "\n",
    "for items in New_Sales_data['Grouped']:\n",
    "    items_list = items.split(', ')\n",
    "    count.update(Counter(combinations(items_list, 2)))\n",
    "    \n",
    "for key, value in count.most_common(10):\n",
    "    print(key, value)"
   ]
  },
  {
   "cell_type": "markdown",
   "id": "c63cde79",
   "metadata": {},
   "source": []
  },
  {
   "cell_type": "markdown",
   "id": "ca5812c7",
   "metadata": {},
   "source": [
    "### For the Item that are sold together, number of products together - 3"
   ]
  },
  {
   "cell_type": "code",
   "execution_count": 53,
   "id": "a4264627",
   "metadata": {},
   "outputs": [
    {
     "name": "stdout",
     "output_type": "stream",
     "text": [
      "('Google Phone', 'USB-C Charging Cable', 'Wired Headphones') 86\n",
      "('iPhone', 'Lightning Charging Cable', 'Wired Headphones') 62\n",
      "('iPhone', 'Lightning Charging Cable', 'Apple Airpods Headphones') 47\n",
      "('Google Phone', 'USB-C Charging Cable', 'Bose SoundSport Headphones') 35\n",
      "('Vareebadd Phone', 'USB-C Charging Cable', 'Wired Headphones') 33\n",
      "('iPhone', 'Apple Airpods Headphones', 'Wired Headphones') 27\n",
      "('Google Phone', 'Bose SoundSport Headphones', 'Wired Headphones') 24\n",
      "('Vareebadd Phone', 'USB-C Charging Cable', 'Bose SoundSport Headphones') 16\n",
      "('Vareebadd Phone', 'Bose SoundSport Headphones', 'Wired Headphones') 5\n",
      "('USB-C Charging Cable', 'Bose SoundSport Headphones', 'Wired Headphones') 5\n"
     ]
    }
   ],
   "source": [
    "count = Counter()\n",
    "\n",
    "for items in New_Sales_data['Grouped']:\n",
    "    items_list = items.split(', ')\n",
    "    count.update(Counter(combinations(items_list, 3)))\n",
    "    \n",
    "for key, value in count.most_common(10):\n",
    "    print(key, value)"
   ]
  },
  {
   "cell_type": "markdown",
   "id": "22a4783e",
   "metadata": {},
   "source": [
    "### For the Item that are sold together, number of products together - 4"
   ]
  },
  {
   "cell_type": "code",
   "execution_count": 54,
   "id": "bfd941ae",
   "metadata": {},
   "outputs": [
    {
     "name": "stdout",
     "output_type": "stream",
     "text": [
      "('iPhone', 'Lightning Charging Cable', 'Apple Airpods Headphones', 'Wired Headphones') 4\n",
      "('Google Phone', 'USB-C Charging Cable', 'Bose SoundSport Headphones', 'Wired Headphones') 3\n",
      "('Vareebadd Phone', 'USB-C Charging Cable', 'Bose SoundSport Headphones', 'Wired Headphones') 2\n",
      "('iPhone', 'Lightning Charging Cable', 'Apple Airpods Headphones', 'Google Phone') 1\n",
      "('iPhone', 'Lightning Charging Cable', 'Wired Headphones', 'Google Phone') 1\n",
      "('iPhone', 'Apple Airpods Headphones', 'Wired Headphones', 'Google Phone') 1\n",
      "('Lightning Charging Cable', 'Apple Airpods Headphones', 'Wired Headphones', 'Google Phone') 1\n",
      "('Google Phone', 'USB-C Charging Cable', 'Wired Headphones', 'AA Batteries (4-pack)') 1\n",
      "('iPhone', 'Lightning Charging Cable', 'Wired Headphones', 'USB-C Charging Cable') 1\n",
      "('Google Phone', 'USB-C Charging Cable', 'Wired Headphones', '27in FHD Monitor') 1\n"
     ]
    }
   ],
   "source": [
    "count = Counter()\n",
    "\n",
    "for items in New_Sales_data['Grouped']:\n",
    "    items_list = items.split(', ')\n",
    "    count.update(Counter(combinations(items_list, 4)))\n",
    "    \n",
    "for key, value in count.most_common(10):\n",
    "    print(key, value)"
   ]
  },
  {
   "cell_type": "markdown",
   "id": "309750fe",
   "metadata": {},
   "source": [
    "### Q5. What Product sold the most ? and why do you think it was sold the most?"
   ]
  },
  {
   "cell_type": "code",
   "execution_count": 56,
   "id": "c4e3af6a",
   "metadata": {},
   "outputs": [
    {
     "data": {
      "text/html": [
       "<div>\n",
       "<style scoped>\n",
       "    .dataframe tbody tr th:only-of-type {\n",
       "        vertical-align: middle;\n",
       "    }\n",
       "\n",
       "    .dataframe tbody tr th {\n",
       "        vertical-align: top;\n",
       "    }\n",
       "\n",
       "    .dataframe thead th {\n",
       "        text-align: right;\n",
       "    }\n",
       "</style>\n",
       "<table border=\"1\" class=\"dataframe\">\n",
       "  <thead>\n",
       "    <tr style=\"text-align: right;\">\n",
       "      <th></th>\n",
       "      <th>Order_Id</th>\n",
       "      <th>Product</th>\n",
       "      <th>Quantity_Ordered</th>\n",
       "      <th>Price_Each</th>\n",
       "      <th>Order_Date</th>\n",
       "      <th>Purchase_Address</th>\n",
       "      <th>Order_Month</th>\n",
       "      <th>Sales</th>\n",
       "      <th>City</th>\n",
       "      <th>Hour</th>\n",
       "      <th>Minute</th>\n",
       "    </tr>\n",
       "  </thead>\n",
       "  <tbody>\n",
       "    <tr>\n",
       "      <th>0</th>\n",
       "      <td>141234</td>\n",
       "      <td>iPhone</td>\n",
       "      <td>1</td>\n",
       "      <td>700.00</td>\n",
       "      <td>2019-01-22 21:25:00</td>\n",
       "      <td>944 Walnut St, Boston, MA 02215</td>\n",
       "      <td>1</td>\n",
       "      <td>700.00</td>\n",
       "      <td>Boston</td>\n",
       "      <td>21</td>\n",
       "      <td>25</td>\n",
       "    </tr>\n",
       "    <tr>\n",
       "      <th>1</th>\n",
       "      <td>141235</td>\n",
       "      <td>Lightning Charging Cable</td>\n",
       "      <td>1</td>\n",
       "      <td>14.95</td>\n",
       "      <td>2019-01-28 14:15:00</td>\n",
       "      <td>185 Maple St, Portland, OR 97035</td>\n",
       "      <td>1</td>\n",
       "      <td>14.95</td>\n",
       "      <td>Portland</td>\n",
       "      <td>14</td>\n",
       "      <td>15</td>\n",
       "    </tr>\n",
       "    <tr>\n",
       "      <th>2</th>\n",
       "      <td>141236</td>\n",
       "      <td>Wired Headphones</td>\n",
       "      <td>2</td>\n",
       "      <td>11.99</td>\n",
       "      <td>2019-01-17 13:33:00</td>\n",
       "      <td>538 Adams St, San Francisco, CA 94016</td>\n",
       "      <td>1</td>\n",
       "      <td>23.98</td>\n",
       "      <td>San Francisco</td>\n",
       "      <td>13</td>\n",
       "      <td>33</td>\n",
       "    </tr>\n",
       "    <tr>\n",
       "      <th>3</th>\n",
       "      <td>141237</td>\n",
       "      <td>27in FHD Monitor</td>\n",
       "      <td>1</td>\n",
       "      <td>149.99</td>\n",
       "      <td>2019-01-05 20:33:00</td>\n",
       "      <td>738 10th St, Los Angeles, CA 90001</td>\n",
       "      <td>1</td>\n",
       "      <td>149.99</td>\n",
       "      <td>Los Angeles</td>\n",
       "      <td>20</td>\n",
       "      <td>33</td>\n",
       "    </tr>\n",
       "    <tr>\n",
       "      <th>4</th>\n",
       "      <td>141238</td>\n",
       "      <td>Wired Headphones</td>\n",
       "      <td>1</td>\n",
       "      <td>11.99</td>\n",
       "      <td>2019-01-25 11:59:00</td>\n",
       "      <td>387 10th St, Austin, TX 73301</td>\n",
       "      <td>1</td>\n",
       "      <td>11.99</td>\n",
       "      <td>Austin</td>\n",
       "      <td>11</td>\n",
       "      <td>59</td>\n",
       "    </tr>\n",
       "  </tbody>\n",
       "</table>\n",
       "</div>"
      ],
      "text/plain": [
       "   Order_Id                   Product  Quantity_Ordered  Price_Each  \\\n",
       "0    141234                    iPhone                 1      700.00   \n",
       "1    141235  Lightning Charging Cable                 1       14.95   \n",
       "2    141236          Wired Headphones                 2       11.99   \n",
       "3    141237          27in FHD Monitor                 1      149.99   \n",
       "4    141238          Wired Headphones                 1       11.99   \n",
       "\n",
       "           Order_Date                       Purchase_Address  Order_Month  \\\n",
       "0 2019-01-22 21:25:00        944 Walnut St, Boston, MA 02215            1   \n",
       "1 2019-01-28 14:15:00       185 Maple St, Portland, OR 97035            1   \n",
       "2 2019-01-17 13:33:00  538 Adams St, San Francisco, CA 94016            1   \n",
       "3 2019-01-05 20:33:00     738 10th St, Los Angeles, CA 90001            1   \n",
       "4 2019-01-25 11:59:00          387 10th St, Austin, TX 73301            1   \n",
       "\n",
       "    Sales            City  Hour  Minute  \n",
       "0  700.00          Boston    21      25  \n",
       "1   14.95        Portland    14      15  \n",
       "2   23.98   San Francisco    13      33  \n",
       "3  149.99     Los Angeles    20      33  \n",
       "4   11.99          Austin    11      59  "
      ]
     },
     "execution_count": 56,
     "metadata": {},
     "output_type": "execute_result"
    }
   ],
   "source": [
    "Sales_Data.head()"
   ]
  },
  {
   "cell_type": "code",
   "execution_count": 65,
   "id": "9e3ee3af",
   "metadata": {},
   "outputs": [
    {
     "data": {
      "text/plain": [
       "Product\n",
       "AAA Batteries (4-pack)        30986.0\n",
       "AA Batteries (4-pack)         27615.0\n",
       "USB-C Charging Cable          23931.0\n",
       "Lightning Charging Cable      23169.0\n",
       "Wired Headphones              20524.0\n",
       "Apple Airpods Headphones      15637.0\n",
       "Bose SoundSport Headphones    13430.0\n",
       "27in FHD Monitor               7541.0\n",
       "iPhone                         6847.0\n",
       "27in 4K Gaming Monitor         6239.0\n",
       "34in Ultrawide Monitor         6192.0\n",
       "Google Phone                   5529.0\n",
       "Flatscreen TV                  4813.0\n",
       "Macbook Pro Laptop             4725.0\n",
       "ThinkPad Laptop                4128.0\n",
       "20in Monitor                   4126.0\n",
       "Vareebadd Phone                2068.0\n",
       "LG Washing Machine              666.0\n",
       "LG Dryer                        646.0\n",
       "Name: Quantity_Ordered, dtype: float64"
      ]
     },
     "execution_count": 65,
     "metadata": {},
     "output_type": "execute_result"
    }
   ],
   "source": [
    "Sales_Data.groupby('Product').sum()['Quantity_Ordered'].sort_values(ascending=False)"
   ]
  },
  {
   "cell_type": "code",
   "execution_count": 68,
   "id": "e7454e85",
   "metadata": {},
   "outputs": [
    {
     "data": {
      "text/plain": [
       "Text(0, 0.5, 'Qunatity Sold')"
      ]
     },
     "execution_count": 68,
     "metadata": {},
     "output_type": "execute_result"
    },
    {
     "data": {
      "image/png": "[encoded data removed]",
      "text/plain": [
       "<Figure size 640x480 with 1 Axes>"
      ]
     },
     "metadata": {},
     "output_type": "display_data"
    }
   ],
   "source": [
    "Sales_Data.groupby('Product').sum()['Quantity_Ordered'].sort_values(ascending=False).plot(kind = 'bar')\n",
    "plt.title('Product sold the most')\n",
    "plt.ylabel('Qunatity Sold')"
   ]
  },
  {
   "cell_type": "code",
   "execution_count": 76,
   "id": "10482ec7",
   "metadata": {},
   "outputs": [
    {
     "data": {
      "image/png": "[encoded data removed]",
      "text/plain": [
       "<Figure size 640x480 with 1 Axes>"
      ]
     },
     "metadata": {},
     "output_type": "display_data"
    }
   ],
   "source": [
    "products = Sales_Data.groupby('Product').mean()['Price_Each']\n",
    "\n",
    "# Plotting the bar chart\n",
    "ax = products.plot(kind='line')\n",
    "\n",
    "# Adding labels to each bar\n",
    "#for i, v in enumerate(products):\n",
    "#    ax.text(i, v, str(v), ha='center', va='bottom')\n",
    "\n",
    "plt.title('Product sold the most')\n",
    "plt.ylabel('Qunatity Sold')\n",
    "plt.xlabel\n",
    "plt.show()"
   ]
  },
  {
   "cell_type": "code",
   "execution_count": 82,
   "id": "dbc67d27",
   "metadata": {},
   "outputs": [
    {
     "data": {
      "text/plain": [
       "<AxesSubplot:xlabel='Product'>"
      ]
     },
     "execution_count": 82,
     "metadata": {},
     "output_type": "execute_result"
    },
    {
     "data": {
      "image/png": "[encoded data removed]",
      "text/plain": [
       "<Figure size 640x480 with 1 Axes>"
      ]
     },
     "metadata": {},
     "output_type": "display_data"
    }
   ],
   "source": [
    "Sales_Data.groupby('Product').mean()['Price_Each'].plot(kind = 'bar')\n"
   ]
  },
  {
   "cell_type": "code",
   "execution_count": 83,
   "id": "30a55fd6",
   "metadata": {},
   "outputs": [],
   "source": [
    "Sales_Data.to_csv('All_Sales_Data_2019_Final.csv', index = False)"
   ]
  },
  {
   "cell_type": "code",
   "execution_count": null,
   "id": "10d8252a",
   "metadata": {},
   "outputs": [],
   "source": []
  }
 ],
 "metadata": {
  "kernelspec": {
   "display_name": "Python 3 (ipykernel)",
   "language": "python",
   "name": "python3"
  },
  "language_info": {
   "codemirror_mode": {
    "name": "ipython",
    "version": 3
   },
   "file_extension": ".py",
   "mimetype": "text/x-python",
   "name": "python",
   "nbconvert_exporter": "python",
   "pygments_lexer": "ipython3",
   "version": "3.9.13"
  }
 },
 "nbformat": 4,
 "nbformat_minor": 5
}
